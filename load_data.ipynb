{
 "cells": [
  {
   "cell_type": "code",
   "execution_count": 1,
   "metadata": {},
   "outputs": [
    {
     "data": {
      "application/vnd.jupyter.widget-view+json": {
       "model_id": "ad0512a21abc46bda0bb6af5a0733d14",
       "version_major": 2,
       "version_minor": 0
      },
      "text/plain": []
     },
     "metadata": {},
     "output_type": "display_data"
    }
   ],
   "source": [
    "from Bio.PDB import *\n",
    "import os\n",
    "import numpy as np\n",
    "from utils.data import *\n",
    "from utils.plot import *"
   ]
  },
  {
   "cell_type": "code",
   "execution_count": 48,
   "metadata": {},
   "outputs": [],
   "source": [
    "train_pdbs, train_pdb_chains = read_domain_ids_per_chain_from_txt('./data/train_domains.txt')\n",
    "test_pdbs, test_pdb_chains = read_domain_ids_per_chain_from_txt('./data/test_domains.txt')"
   ]
  },
  {
   "cell_type": "code",
   "execution_count": 10,
   "metadata": {},
   "outputs": [],
   "source": [
    "# save data in npy format\n",
    "train_data_coords, train_data_res = load_backbone_coords(train_pdb_chains)\n",
    "test_data_coords, test_data_res = load_backbone_coords(test_pdb_chains)\n",
    "np.save('./data/train_backbone_coords_20.npy', train_data_coords)\n",
    "np.save('./data/train_data_res_20.npy', train_data_res)\n",
    "np.save('./data/test_backbone_coords_20.npy', test_data_coords)\n",
    "np.save('./data/test_data_res_20.npy', test_data_res)"
   ]
  }
 ],
 "metadata": {
  "kernelspec": {
   "display_name": "Pytorch",
   "language": "python",
   "name": "python3"
  },
  "language_info": {
   "codemirror_mode": {
    "name": "ipython",
    "version": 3
   },
   "file_extension": ".py",
   "mimetype": "text/x-python",
   "name": "python",
   "nbconvert_exporter": "python",
   "pygments_lexer": "ipython3",
   "version": "3.9.13"
  },
  "orig_nbformat": 4,
  "vscode": {
   "interpreter": {
    "hash": "a8c46636c3bde50cfdd0c0baa56394ee20434678255ed1d46ddb8e00e7268de8"
   }
  }
 },
 "nbformat": 4,
 "nbformat_minor": 2
}

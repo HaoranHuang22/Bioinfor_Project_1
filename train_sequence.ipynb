{
 "cells": [
  {
   "cell_type": "code",
   "execution_count": 2,
   "metadata": {},
   "outputs": [],
   "source": [
    "import torch\n",
    "from torch import optim\n",
    "from torch.optim import Adam\n",
    "from tqdm import tqdm\n",
    "\n",
    "from utils.data import read_domain_ids_per_chain_from_txt\n",
    "from utils.dataset import *\n",
    "from diffusion_model.sequence_diffusion_model import *"
   ]
  },
  {
   "cell_type": "code",
   "execution_count": 3,
   "metadata": {},
   "outputs": [],
   "source": [
    "DEVICE = torch.device('cuda' if torch.cuda.is_available() else 'cpu')\n",
    "EPOCH = 100\n",
    "LEARNING_RATE = 1e-3"
   ]
  },
  {
   "cell_type": "code",
   "execution_count": 4,
   "metadata": {},
   "outputs": [],
   "source": [
    "train_pdbs, train_pdb_chains = read_domain_ids_per_chain_from_txt('./data/train_domains.txt')\n",
    "test_pdbs, test_pdb_chains = read_domain_ids_per_chain_from_txt('./data/test_domains.txt')"
   ]
  },
  {
   "cell_type": "code",
   "execution_count": 5,
   "metadata": {},
   "outputs": [],
   "source": [
    "train_loader = BackboneCoordsDataLoader(train_pdb_chains, \"./data/train_backbone_coords_20.npy\", \"./data/train_data_res_20.npy\",seq_length=20, batch_size=128, shuffle=True)\n",
    "test_loader = BackboneCoordsDataLoader(test_pdb_chains, './data/test_backbone_coords_20.npy', './data/test_data_res_20.npy', seq_length=20, batch_size=128, shuffle=True)"
   ]
  },
  {
   "cell_type": "code",
   "execution_count": 23,
   "metadata": {},
   "outputs": [
    {
     "name": "stderr",
     "output_type": "stream",
     "text": [
      "                                       "
     ]
    },
    {
     "name": "stdout",
     "output_type": "stream",
     "text": [
      "torch.Size([128, 20])\n",
      "tensor([[13,  7, 12,  ..., 12,  5, 12],\n",
      "        [ 7,  5,  4,  ..., 11, 14,  3],\n",
      "        [13, 12, 11,  ..., 11, 14,  1],\n",
      "        ...,\n",
      "        [13,  9, 14,  ...,  9, 19,  1],\n",
      "        [ 4, 10,  8,  ..., 11,  2, 11],\n",
      "        [ 0, 15,  4,  ..., 16,  2, 11]], dtype=torch.int32)\n",
      "mask probability shape:  torch.Size([128, 20])\n",
      "tensor([0.3600, 0.3600, 0.3600, 0.3600, 0.3600, 0.3600, 0.3600, 0.3600, 0.3600,\n",
      "        0.3600, 0.3600, 0.3600, 0.3600, 0.3600, 0.3600, 0.3600, 0.3600, 0.3600,\n",
      "        0.3600, 0.3600])\n",
      "tensor([False, False,  True, False, False, False, False,  True, False,  True,\n",
      "        False, False,  True,  True,  True,  True, False,  True,  True, False])\n",
      "tensor([13,  7, 21, 12,  6, 10,  6, 21,  7, 21,  4,  1, 21, 21, 21, 21, 18, 21,\n",
      "        21, 12], dtype=torch.int32)\n",
      "tensor([-1, -1, 12, -1, -1, -1, -1, 11, -1, 13, -1, -1, 15,  7, 14, 11, -1, 12,\n",
      "         5, -1], dtype=torch.int32)\n"
     ]
    },
    {
     "name": "stderr",
     "output_type": "stream",
     "text": [
      "\r"
     ]
    }
   ],
   "source": [
    "for batch_idx, (pdb, res_label, atom_coords) in enumerate(tqdm(train_loader, leave=False)):\n",
    "    \n",
    "    break"
   ]
  },
  {
   "cell_type": "code",
   "execution_count": null,
   "metadata": {},
   "outputs": [],
   "source": []
  }
 ],
 "metadata": {
  "kernelspec": {
   "display_name": "base",
   "language": "python",
   "name": "python3"
  },
  "language_info": {
   "codemirror_mode": {
    "name": "ipython",
    "version": 3
   },
   "file_extension": ".py",
   "mimetype": "text/x-python",
   "name": "python",
   "nbconvert_exporter": "python",
   "pygments_lexer": "ipython3",
   "version": "3.9.13"
  },
  "orig_nbformat": 4
 },
 "nbformat": 4,
 "nbformat_minor": 2
}

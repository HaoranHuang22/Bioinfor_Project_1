{
 "cells": [
  {
   "cell_type": "code",
   "execution_count": 1,
   "metadata": {},
   "outputs": [],
   "source": [
    "import torch\n",
    "from torch import optim\n",
    "from torch.optim import Adam\n",
    "from tqdm import tqdm\n",
    "import matplotlib.pyplot as plt\n",
    "from einops import repeat\n",
    "\n",
    "from utils.data import read_domain_ids_per_chain_from_txt\n",
    "from common.res_infor import *\n",
    "from utils.dataset import *\n",
    "from diffusion_model.sequence_diffusion_model import *"
   ]
  },
  {
   "cell_type": "code",
   "execution_count": 2,
   "metadata": {},
   "outputs": [],
   "source": [
    "DEVICE = torch.device('cuda' if torch.cuda.is_available() else 'cpu')\n",
    "EPOCH = 100\n",
    "LEARNING_RATE = 1e-3"
   ]
  },
  {
   "cell_type": "code",
   "execution_count": 3,
   "metadata": {},
   "outputs": [],
   "source": [
    "# Load data\n",
    "train_pdbs, train_pdb_chains = read_domain_ids_per_chain_from_txt('./data/train_domains.txt')\n",
    "test_pdbs, test_pdb_chains = read_domain_ids_per_chain_from_txt('./data/test_domains.txt')\n",
    "train_loader = BackboneCoordsDataLoader(train_pdb_chains, \"./data/train_backbone_coords_20.npy\", \"./data/train_data_res_20.npy\",seq_length=20, batch_size=128, shuffle=True)\n",
    "test_loader = BackboneCoordsDataLoader(test_pdb_chains, './data/test_backbone_coords_20.npy', './data/test_data_res_20.npy', seq_length=20, batch_size=128, shuffle=True)"
   ]
  },
  {
   "attachments": {},
   "cell_type": "markdown",
   "metadata": {},
   "source": [
    "# Print some Sequence data"
   ]
  },
  {
   "cell_type": "code",
   "execution_count": 4,
   "metadata": {},
   "outputs": [
    {
     "name": "stdout",
     "output_type": "stream",
     "text": [
      "('2gsiA', '3oa8A', '1y14D', '4lwoE', '3judA')\n",
      "['DIVLTQSPASLAVSLGQPAT', 'ANPGFLNVDRGEVLWSEPRG', 'MFFIKDLSLNITLPSFFGPR', 'ESYSDLAVHRLMLEDAQRMS', 'MALVFVYGTLKRGQPNHRVL']\n"
     ]
    }
   ],
   "source": [
    "# print some Sequence data\n",
    "def tensor_to_string(tensor, label_res_dict):\n",
    "    sequences = []\n",
    "    for i in range(tensor.size(0)):\n",
    "        sequence = \"\".join([label_res_dict[residue.item()] if residue.item() != 21 else '*' for residue in tensor[i]])\n",
    "        sequences.append(sequence)\n",
    "    return sequences\n",
    "    \n",
    "for batch_idx, (pdb_id, res, data) in enumerate(train_loader):\n",
    "    res = res.squeeze()\n",
    "    sequences = tensor_to_string(res, label_res_dict)\n",
    "    print(pdb_id[:5])\n",
    "    print(sequences[:5])\n",
    "    break"
   ]
  },
  {
   "attachments": {},
   "cell_type": "markdown",
   "metadata": {},
   "source": [
    "# Visualization of the forward process"
   ]
  },
  {
   "cell_type": "code",
   "execution_count": 5,
   "metadata": {},
   "outputs": [
    {
     "name": "stdout",
     "output_type": "stream",
     "text": [
      "2ve3 B\n",
      "t = 0: ['SLPIPPGDFGLPWLGETLNF']\n",
      "t = 10: ['SLPIPP*D*GLPWLGETLNF']\n",
      "t = 20: ['SLPI*PGD*GLPWLGE*LN*']\n",
      "t = 30: ['******GD***PW*G*TLNF']\n",
      "t = 40: ['*LPIP*GDFGL**LGET*NF']\n",
      "t = 50: ['S****PGDFG***L*****F']\n",
      "t = 60: ['SLPI***D*GLPWLG*T**F']\n",
      "t = 70: ['S***PPG**G**W*******']\n",
      "t = 80: ['****P****G*P**G*TLN*']\n",
      "t = 90: ['********F****L******']\n",
      "t = 100: ['********************']\n"
     ]
    }
   ],
   "source": [
    "# Visualization of the forward process\n",
    "diffusion = SequenceDiffusion()\n",
    "\n",
    "pdb_id, res, _ = next(iter(train_loader))\n",
    "pdb_1 = pdb_id[0]\n",
    "res_1 = res[0].reshape(1, -1)\n",
    "print(pdb_1[:4] + \" \" + pdb_1[-1])\n",
    "\n",
    "for t in range(0, 101, 10):\n",
    "    t = torch.tensor([t])\n",
    "    x_t, _, _= diffusion.seq_q_sample(res_1, t,)\n",
    "    sequences = tensor_to_string(x_t, label_res_dict)\n",
    "    print(f\"t = {t.item()}:\", sequences)"
   ]
  },
  {
   "attachments": {},
   "cell_type": "markdown",
   "metadata": {},
   "source": [
    "# Model training"
   ]
  },
  {
   "cell_type": "code",
   "execution_count": 6,
   "metadata": {},
   "outputs": [],
   "source": [
    "diffusion = SequenceDiffusion(device=DEVICE)\n",
    "model = SequenceModel().to(DEVICE)\n",
    "optimizer = optim.Adam(params=model.parameters(), lr = 1e-3)"
   ]
  },
  {
   "cell_type": "code",
   "execution_count": 7,
   "metadata": {},
   "outputs": [
    {
     "name": "stderr",
     "output_type": "stream",
     "text": [
      "                                                 \r"
     ]
    },
    {
     "name": "stdout",
     "output_type": "stream",
     "text": [
      "====> Epoch: 0 Average loss: 0.0015541926\n"
     ]
    },
    {
     "name": "stderr",
     "output_type": "stream",
     "text": [
      "                                                 \r"
     ]
    },
    {
     "name": "stdout",
     "output_type": "stream",
     "text": [
      "====> Epoch: 1 Average loss: 0.0015003494\n"
     ]
    },
    {
     "name": "stderr",
     "output_type": "stream",
     "text": [
      "                                                 \r"
     ]
    },
    {
     "name": "stdout",
     "output_type": "stream",
     "text": [
      "====> Epoch: 2 Average loss: 0.0014724689\n"
     ]
    },
    {
     "name": "stderr",
     "output_type": "stream",
     "text": [
      "                                                 \r"
     ]
    },
    {
     "name": "stdout",
     "output_type": "stream",
     "text": [
      "====> Epoch: 3 Average loss: 0.0014465214\n"
     ]
    },
    {
     "name": "stderr",
     "output_type": "stream",
     "text": [
      "                                                 \r"
     ]
    },
    {
     "name": "stdout",
     "output_type": "stream",
     "text": [
      "====> Epoch: 4 Average loss: 0.0014285617\n"
     ]
    },
    {
     "name": "stderr",
     "output_type": "stream",
     "text": [
      "                                                 \r"
     ]
    },
    {
     "name": "stdout",
     "output_type": "stream",
     "text": [
      "====> Epoch: 5 Average loss: 0.0014172698\n"
     ]
    },
    {
     "name": "stderr",
     "output_type": "stream",
     "text": [
      "                                                 \r"
     ]
    },
    {
     "name": "stdout",
     "output_type": "stream",
     "text": [
      "====> Epoch: 6 Average loss: 0.0014050568\n"
     ]
    },
    {
     "name": "stderr",
     "output_type": "stream",
     "text": [
      "                                                 \r"
     ]
    },
    {
     "name": "stdout",
     "output_type": "stream",
     "text": [
      "====> Epoch: 7 Average loss: 0.0013972814\n"
     ]
    },
    {
     "name": "stderr",
     "output_type": "stream",
     "text": [
      "                                                 \r"
     ]
    },
    {
     "name": "stdout",
     "output_type": "stream",
     "text": [
      "====> Epoch: 8 Average loss: 0.0013962481\n"
     ]
    },
    {
     "name": "stderr",
     "output_type": "stream",
     "text": [
      "                                                 \r"
     ]
    },
    {
     "name": "stdout",
     "output_type": "stream",
     "text": [
      "====> Epoch: 9 Average loss: 0.0013876278\n"
     ]
    },
    {
     "name": "stderr",
     "output_type": "stream",
     "text": [
      "                                                 \r"
     ]
    },
    {
     "name": "stdout",
     "output_type": "stream",
     "text": [
      "====> Epoch: 10 Average loss: 0.0013853546\n"
     ]
    },
    {
     "name": "stderr",
     "output_type": "stream",
     "text": [
      "                                                 \r"
     ]
    },
    {
     "name": "stdout",
     "output_type": "stream",
     "text": [
      "====> Epoch: 11 Average loss: 0.0013764017\n"
     ]
    },
    {
     "name": "stderr",
     "output_type": "stream",
     "text": [
      "                                                 \r"
     ]
    },
    {
     "name": "stdout",
     "output_type": "stream",
     "text": [
      "====> Epoch: 12 Average loss: 0.0013675245\n"
     ]
    },
    {
     "name": "stderr",
     "output_type": "stream",
     "text": [
      "                                                 \r"
     ]
    },
    {
     "name": "stdout",
     "output_type": "stream",
     "text": [
      "====> Epoch: 13 Average loss: 0.0013675046\n"
     ]
    },
    {
     "name": "stderr",
     "output_type": "stream",
     "text": [
      "                                                 \r"
     ]
    },
    {
     "name": "stdout",
     "output_type": "stream",
     "text": [
      "====> Epoch: 14 Average loss: 0.0013643874\n"
     ]
    },
    {
     "name": "stderr",
     "output_type": "stream",
     "text": [
      "                                                 \r"
     ]
    },
    {
     "name": "stdout",
     "output_type": "stream",
     "text": [
      "====> Epoch: 15 Average loss: 0.0013641875\n"
     ]
    },
    {
     "name": "stderr",
     "output_type": "stream",
     "text": [
      "                                                 \r"
     ]
    },
    {
     "name": "stdout",
     "output_type": "stream",
     "text": [
      "====> Epoch: 16 Average loss: 0.0013578685\n"
     ]
    },
    {
     "name": "stderr",
     "output_type": "stream",
     "text": [
      "                                                 \r"
     ]
    },
    {
     "name": "stdout",
     "output_type": "stream",
     "text": [
      "====> Epoch: 17 Average loss: 0.0013529881\n"
     ]
    },
    {
     "name": "stderr",
     "output_type": "stream",
     "text": [
      "                                                 \r"
     ]
    },
    {
     "name": "stdout",
     "output_type": "stream",
     "text": [
      "====> Epoch: 18 Average loss: 0.0013521154\n"
     ]
    },
    {
     "name": "stderr",
     "output_type": "stream",
     "text": [
      "                                                 \r"
     ]
    },
    {
     "name": "stdout",
     "output_type": "stream",
     "text": [
      "====> Epoch: 19 Average loss: 0.0013515438\n"
     ]
    },
    {
     "name": "stderr",
     "output_type": "stream",
     "text": [
      "                                                 \r"
     ]
    },
    {
     "name": "stdout",
     "output_type": "stream",
     "text": [
      "====> Epoch: 20 Average loss: 0.0013489126\n"
     ]
    },
    {
     "name": "stderr",
     "output_type": "stream",
     "text": [
      "                                                 \r"
     ]
    },
    {
     "name": "stdout",
     "output_type": "stream",
     "text": [
      "====> Epoch: 21 Average loss: 0.0013441392\n"
     ]
    },
    {
     "name": "stderr",
     "output_type": "stream",
     "text": [
      "                                                 \r"
     ]
    },
    {
     "name": "stdout",
     "output_type": "stream",
     "text": [
      "====> Epoch: 22 Average loss: 0.0013454397\n"
     ]
    },
    {
     "name": "stderr",
     "output_type": "stream",
     "text": [
      "                                                 \r"
     ]
    },
    {
     "name": "stdout",
     "output_type": "stream",
     "text": [
      "====> Epoch: 23 Average loss: 0.0013429655\n"
     ]
    },
    {
     "name": "stderr",
     "output_type": "stream",
     "text": [
      "                                                 \r"
     ]
    },
    {
     "name": "stdout",
     "output_type": "stream",
     "text": [
      "====> Epoch: 24 Average loss: 0.0013378412\n"
     ]
    },
    {
     "name": "stderr",
     "output_type": "stream",
     "text": [
      "                                                 \r"
     ]
    },
    {
     "name": "stdout",
     "output_type": "stream",
     "text": [
      "====> Epoch: 25 Average loss: 0.0013405368\n"
     ]
    },
    {
     "name": "stderr",
     "output_type": "stream",
     "text": [
      "                                                 \r"
     ]
    },
    {
     "name": "stdout",
     "output_type": "stream",
     "text": [
      "====> Epoch: 26 Average loss: 0.0013368692\n"
     ]
    },
    {
     "name": "stderr",
     "output_type": "stream",
     "text": [
      "                                                 \r"
     ]
    },
    {
     "name": "stdout",
     "output_type": "stream",
     "text": [
      "====> Epoch: 27 Average loss: 0.0013352687\n"
     ]
    },
    {
     "name": "stderr",
     "output_type": "stream",
     "text": [
      "                                                 \r"
     ]
    },
    {
     "name": "stdout",
     "output_type": "stream",
     "text": [
      "====> Epoch: 28 Average loss: 0.0013394124\n"
     ]
    },
    {
     "name": "stderr",
     "output_type": "stream",
     "text": [
      "                                                 \r"
     ]
    },
    {
     "name": "stdout",
     "output_type": "stream",
     "text": [
      "====> Epoch: 29 Average loss: 0.0013341957\n"
     ]
    },
    {
     "name": "stderr",
     "output_type": "stream",
     "text": [
      "                                                 \r"
     ]
    },
    {
     "name": "stdout",
     "output_type": "stream",
     "text": [
      "====> Epoch: 30 Average loss: 0.0013272736\n"
     ]
    },
    {
     "name": "stderr",
     "output_type": "stream",
     "text": [
      "                                                 \r"
     ]
    },
    {
     "name": "stdout",
     "output_type": "stream",
     "text": [
      "====> Epoch: 31 Average loss: 0.0013257457\n"
     ]
    },
    {
     "name": "stderr",
     "output_type": "stream",
     "text": [
      "                                                 \r"
     ]
    },
    {
     "name": "stdout",
     "output_type": "stream",
     "text": [
      "====> Epoch: 32 Average loss: 0.0013225338\n"
     ]
    },
    {
     "name": "stderr",
     "output_type": "stream",
     "text": [
      "                                                 \r"
     ]
    },
    {
     "name": "stdout",
     "output_type": "stream",
     "text": [
      "====> Epoch: 33 Average loss: 0.0013204465\n"
     ]
    },
    {
     "name": "stderr",
     "output_type": "stream",
     "text": [
      "                                                 \r"
     ]
    },
    {
     "name": "stdout",
     "output_type": "stream",
     "text": [
      "====> Epoch: 34 Average loss: 0.0013278008\n"
     ]
    },
    {
     "name": "stderr",
     "output_type": "stream",
     "text": [
      "                                                 \r"
     ]
    },
    {
     "name": "stdout",
     "output_type": "stream",
     "text": [
      "====> Epoch: 35 Average loss: 0.0013218679\n"
     ]
    },
    {
     "name": "stderr",
     "output_type": "stream",
     "text": [
      "                                                 \r"
     ]
    },
    {
     "name": "stdout",
     "output_type": "stream",
     "text": [
      "====> Epoch: 36 Average loss: 0.0013259330\n"
     ]
    },
    {
     "name": "stderr",
     "output_type": "stream",
     "text": [
      "                                                 \r"
     ]
    },
    {
     "name": "stdout",
     "output_type": "stream",
     "text": [
      "====> Epoch: 37 Average loss: 0.0013197358\n"
     ]
    },
    {
     "name": "stderr",
     "output_type": "stream",
     "text": [
      "                                                 \r"
     ]
    },
    {
     "name": "stdout",
     "output_type": "stream",
     "text": [
      "====> Epoch: 38 Average loss: 0.0013177887\n"
     ]
    },
    {
     "name": "stderr",
     "output_type": "stream",
     "text": [
      "                                                 \r"
     ]
    },
    {
     "name": "stdout",
     "output_type": "stream",
     "text": [
      "====> Epoch: 39 Average loss: 0.0013156478\n"
     ]
    },
    {
     "name": "stderr",
     "output_type": "stream",
     "text": [
      "                                                 \r"
     ]
    },
    {
     "name": "stdout",
     "output_type": "stream",
     "text": [
      "====> Epoch: 40 Average loss: 0.0013161496\n"
     ]
    },
    {
     "name": "stderr",
     "output_type": "stream",
     "text": [
      "                                                 \r"
     ]
    },
    {
     "name": "stdout",
     "output_type": "stream",
     "text": [
      "====> Epoch: 41 Average loss: 0.0013143637\n"
     ]
    },
    {
     "name": "stderr",
     "output_type": "stream",
     "text": [
      "                                                 \r"
     ]
    },
    {
     "name": "stdout",
     "output_type": "stream",
     "text": [
      "====> Epoch: 42 Average loss: 0.0013140511\n"
     ]
    },
    {
     "name": "stderr",
     "output_type": "stream",
     "text": [
      "                                                 \r"
     ]
    },
    {
     "name": "stdout",
     "output_type": "stream",
     "text": [
      "====> Epoch: 43 Average loss: 0.0013110145\n"
     ]
    },
    {
     "name": "stderr",
     "output_type": "stream",
     "text": [
      "                                                 \r"
     ]
    },
    {
     "name": "stdout",
     "output_type": "stream",
     "text": [
      "====> Epoch: 44 Average loss: 0.0013115926\n"
     ]
    },
    {
     "name": "stderr",
     "output_type": "stream",
     "text": [
      "                                                 \r"
     ]
    },
    {
     "name": "stdout",
     "output_type": "stream",
     "text": [
      "====> Epoch: 45 Average loss: 0.0013128359\n"
     ]
    },
    {
     "name": "stderr",
     "output_type": "stream",
     "text": [
      "                                                 \r"
     ]
    },
    {
     "name": "stdout",
     "output_type": "stream",
     "text": [
      "====> Epoch: 46 Average loss: 0.0013062740\n"
     ]
    },
    {
     "name": "stderr",
     "output_type": "stream",
     "text": [
      "                                                 \r"
     ]
    },
    {
     "name": "stdout",
     "output_type": "stream",
     "text": [
      "====> Epoch: 47 Average loss: 0.0013093622\n"
     ]
    },
    {
     "name": "stderr",
     "output_type": "stream",
     "text": [
      "                                                 \r"
     ]
    },
    {
     "name": "stdout",
     "output_type": "stream",
     "text": [
      "====> Epoch: 48 Average loss: 0.0013094194\n"
     ]
    },
    {
     "name": "stderr",
     "output_type": "stream",
     "text": [
      "                                                 \r"
     ]
    },
    {
     "name": "stdout",
     "output_type": "stream",
     "text": [
      "====> Epoch: 49 Average loss: 0.0013102111\n"
     ]
    },
    {
     "name": "stderr",
     "output_type": "stream",
     "text": [
      "                                                 \r"
     ]
    },
    {
     "name": "stdout",
     "output_type": "stream",
     "text": [
      "====> Epoch: 50 Average loss: 0.0013090218\n"
     ]
    },
    {
     "name": "stderr",
     "output_type": "stream",
     "text": [
      "                                                 \r"
     ]
    },
    {
     "name": "stdout",
     "output_type": "stream",
     "text": [
      "====> Epoch: 51 Average loss: 0.0013078079\n"
     ]
    },
    {
     "name": "stderr",
     "output_type": "stream",
     "text": [
      "                                                 \r"
     ]
    },
    {
     "name": "stdout",
     "output_type": "stream",
     "text": [
      "====> Epoch: 52 Average loss: 0.0013063439\n"
     ]
    },
    {
     "name": "stderr",
     "output_type": "stream",
     "text": [
      "                                                 \r"
     ]
    },
    {
     "name": "stdout",
     "output_type": "stream",
     "text": [
      "====> Epoch: 53 Average loss: 0.0013038177\n"
     ]
    },
    {
     "name": "stderr",
     "output_type": "stream",
     "text": [
      "                                                 \r"
     ]
    },
    {
     "name": "stdout",
     "output_type": "stream",
     "text": [
      "====> Epoch: 54 Average loss: 0.0013085020\n"
     ]
    },
    {
     "name": "stderr",
     "output_type": "stream",
     "text": [
      "                                                 \r"
     ]
    },
    {
     "name": "stdout",
     "output_type": "stream",
     "text": [
      "====> Epoch: 55 Average loss: 0.0013034606\n"
     ]
    },
    {
     "name": "stderr",
     "output_type": "stream",
     "text": [
      "                                                 \r"
     ]
    },
    {
     "name": "stdout",
     "output_type": "stream",
     "text": [
      "====> Epoch: 56 Average loss: 0.0012996672\n"
     ]
    },
    {
     "name": "stderr",
     "output_type": "stream",
     "text": [
      "                                                 \r"
     ]
    },
    {
     "name": "stdout",
     "output_type": "stream",
     "text": [
      "====> Epoch: 57 Average loss: 0.0013008396\n"
     ]
    },
    {
     "name": "stderr",
     "output_type": "stream",
     "text": [
      "                                                 \r"
     ]
    },
    {
     "name": "stdout",
     "output_type": "stream",
     "text": [
      "====> Epoch: 58 Average loss: 0.0013071336\n"
     ]
    },
    {
     "name": "stderr",
     "output_type": "stream",
     "text": [
      "                                                 \r"
     ]
    },
    {
     "name": "stdout",
     "output_type": "stream",
     "text": [
      "====> Epoch: 59 Average loss: 0.0012989402\n"
     ]
    },
    {
     "name": "stderr",
     "output_type": "stream",
     "text": [
      "                                                 \r"
     ]
    },
    {
     "name": "stdout",
     "output_type": "stream",
     "text": [
      "====> Epoch: 60 Average loss: 0.0012996618\n"
     ]
    },
    {
     "name": "stderr",
     "output_type": "stream",
     "text": [
      "                                                 \r"
     ]
    },
    {
     "name": "stdout",
     "output_type": "stream",
     "text": [
      "====> Epoch: 61 Average loss: 0.0013005040\n"
     ]
    },
    {
     "name": "stderr",
     "output_type": "stream",
     "text": [
      "                                                 \r"
     ]
    },
    {
     "name": "stdout",
     "output_type": "stream",
     "text": [
      "====> Epoch: 62 Average loss: 0.0012947134\n"
     ]
    },
    {
     "name": "stderr",
     "output_type": "stream",
     "text": [
      "                                                 \r"
     ]
    },
    {
     "name": "stdout",
     "output_type": "stream",
     "text": [
      "====> Epoch: 63 Average loss: 0.0013004032\n"
     ]
    },
    {
     "name": "stderr",
     "output_type": "stream",
     "text": [
      "                                                 \r"
     ]
    },
    {
     "name": "stdout",
     "output_type": "stream",
     "text": [
      "====> Epoch: 64 Average loss: 0.0012962868\n"
     ]
    },
    {
     "name": "stderr",
     "output_type": "stream",
     "text": [
      "                                                 \r"
     ]
    },
    {
     "name": "stdout",
     "output_type": "stream",
     "text": [
      "====> Epoch: 65 Average loss: 0.0012968459\n"
     ]
    },
    {
     "name": "stderr",
     "output_type": "stream",
     "text": [
      "                                                 \r"
     ]
    },
    {
     "name": "stdout",
     "output_type": "stream",
     "text": [
      "====> Epoch: 66 Average loss: 0.0012968707\n"
     ]
    },
    {
     "name": "stderr",
     "output_type": "stream",
     "text": [
      "                                                 \r"
     ]
    },
    {
     "name": "stdout",
     "output_type": "stream",
     "text": [
      "====> Epoch: 67 Average loss: 0.0012997390\n"
     ]
    },
    {
     "name": "stderr",
     "output_type": "stream",
     "text": [
      "                                                 \r"
     ]
    },
    {
     "name": "stdout",
     "output_type": "stream",
     "text": [
      "====> Epoch: 68 Average loss: 0.0012874147\n"
     ]
    },
    {
     "name": "stderr",
     "output_type": "stream",
     "text": [
      "                                                 \r"
     ]
    },
    {
     "name": "stdout",
     "output_type": "stream",
     "text": [
      "====> Epoch: 69 Average loss: 0.0012931648\n"
     ]
    },
    {
     "name": "stderr",
     "output_type": "stream",
     "text": [
      "                                                 \r"
     ]
    },
    {
     "name": "stdout",
     "output_type": "stream",
     "text": [
      "====> Epoch: 70 Average loss: 0.0012872765\n"
     ]
    },
    {
     "name": "stderr",
     "output_type": "stream",
     "text": [
      "                                                 \r"
     ]
    },
    {
     "name": "stdout",
     "output_type": "stream",
     "text": [
      "====> Epoch: 71 Average loss: 0.0012977688\n"
     ]
    },
    {
     "name": "stderr",
     "output_type": "stream",
     "text": [
      "                                                 \r"
     ]
    },
    {
     "name": "stdout",
     "output_type": "stream",
     "text": [
      "====> Epoch: 72 Average loss: 0.0012926666\n"
     ]
    },
    {
     "name": "stderr",
     "output_type": "stream",
     "text": [
      "                                                 \r"
     ]
    },
    {
     "name": "stdout",
     "output_type": "stream",
     "text": [
      "====> Epoch: 73 Average loss: 0.0012878975\n"
     ]
    },
    {
     "name": "stderr",
     "output_type": "stream",
     "text": [
      "                                                 \r"
     ]
    },
    {
     "name": "stdout",
     "output_type": "stream",
     "text": [
      "====> Epoch: 74 Average loss: 0.0012989259\n"
     ]
    },
    {
     "name": "stderr",
     "output_type": "stream",
     "text": [
      "                                                 \r"
     ]
    },
    {
     "name": "stdout",
     "output_type": "stream",
     "text": [
      "====> Epoch: 75 Average loss: 0.0012939479\n"
     ]
    },
    {
     "name": "stderr",
     "output_type": "stream",
     "text": [
      "                                                 \r"
     ]
    },
    {
     "name": "stdout",
     "output_type": "stream",
     "text": [
      "====> Epoch: 76 Average loss: 0.0012995550\n"
     ]
    },
    {
     "name": "stderr",
     "output_type": "stream",
     "text": [
      "                                                 \r"
     ]
    },
    {
     "name": "stdout",
     "output_type": "stream",
     "text": [
      "====> Epoch: 77 Average loss: 0.0012938128\n"
     ]
    },
    {
     "name": "stderr",
     "output_type": "stream",
     "text": [
      "                                                 \r"
     ]
    },
    {
     "name": "stdout",
     "output_type": "stream",
     "text": [
      "====> Epoch: 78 Average loss: 0.0012913351\n"
     ]
    },
    {
     "name": "stderr",
     "output_type": "stream",
     "text": [
      "                                                 \r"
     ]
    },
    {
     "name": "stdout",
     "output_type": "stream",
     "text": [
      "====> Epoch: 79 Average loss: 0.0012902894\n"
     ]
    },
    {
     "name": "stderr",
     "output_type": "stream",
     "text": [
      "                                                 \r"
     ]
    },
    {
     "name": "stdout",
     "output_type": "stream",
     "text": [
      "====> Epoch: 80 Average loss: 0.0012926970\n"
     ]
    },
    {
     "name": "stderr",
     "output_type": "stream",
     "text": [
      "                                                 \r"
     ]
    },
    {
     "name": "stdout",
     "output_type": "stream",
     "text": [
      "====> Epoch: 81 Average loss: 0.0012890471\n"
     ]
    },
    {
     "name": "stderr",
     "output_type": "stream",
     "text": [
      "                                                 \r"
     ]
    },
    {
     "name": "stdout",
     "output_type": "stream",
     "text": [
      "====> Epoch: 82 Average loss: 0.0012904550\n"
     ]
    },
    {
     "name": "stderr",
     "output_type": "stream",
     "text": [
      "                                                 \r"
     ]
    },
    {
     "name": "stdout",
     "output_type": "stream",
     "text": [
      "====> Epoch: 83 Average loss: 0.0012876328\n"
     ]
    },
    {
     "name": "stderr",
     "output_type": "stream",
     "text": [
      "                                                 \r"
     ]
    },
    {
     "name": "stdout",
     "output_type": "stream",
     "text": [
      "====> Epoch: 84 Average loss: 0.0012893043\n"
     ]
    },
    {
     "name": "stderr",
     "output_type": "stream",
     "text": [
      "                                                 \r"
     ]
    },
    {
     "name": "stdout",
     "output_type": "stream",
     "text": [
      "====> Epoch: 85 Average loss: 0.0012906352\n"
     ]
    },
    {
     "name": "stderr",
     "output_type": "stream",
     "text": [
      "                                                 \r"
     ]
    },
    {
     "name": "stdout",
     "output_type": "stream",
     "text": [
      "====> Epoch: 86 Average loss: 0.0012837132\n"
     ]
    },
    {
     "name": "stderr",
     "output_type": "stream",
     "text": [
      "                                                 \r"
     ]
    },
    {
     "name": "stdout",
     "output_type": "stream",
     "text": [
      "====> Epoch: 87 Average loss: 0.0012880441\n"
     ]
    },
    {
     "name": "stderr",
     "output_type": "stream",
     "text": [
      "                                                 \r"
     ]
    },
    {
     "name": "stdout",
     "output_type": "stream",
     "text": [
      "====> Epoch: 88 Average loss: 0.0012874502\n"
     ]
    },
    {
     "name": "stderr",
     "output_type": "stream",
     "text": [
      "                                                 \r"
     ]
    },
    {
     "name": "stdout",
     "output_type": "stream",
     "text": [
      "====> Epoch: 89 Average loss: 0.0012850766\n"
     ]
    },
    {
     "name": "stderr",
     "output_type": "stream",
     "text": [
      "                                                 \r"
     ]
    },
    {
     "name": "stdout",
     "output_type": "stream",
     "text": [
      "====> Epoch: 90 Average loss: 0.0012890336\n"
     ]
    },
    {
     "name": "stderr",
     "output_type": "stream",
     "text": [
      "                                                 \r"
     ]
    },
    {
     "name": "stdout",
     "output_type": "stream",
     "text": [
      "====> Epoch: 91 Average loss: 0.0012857958\n"
     ]
    },
    {
     "name": "stderr",
     "output_type": "stream",
     "text": [
      "                                                 \r"
     ]
    },
    {
     "name": "stdout",
     "output_type": "stream",
     "text": [
      "====> Epoch: 92 Average loss: 0.0012889988\n"
     ]
    },
    {
     "name": "stderr",
     "output_type": "stream",
     "text": [
      "                                                 \r"
     ]
    },
    {
     "name": "stdout",
     "output_type": "stream",
     "text": [
      "====> Epoch: 93 Average loss: 0.0012877674\n"
     ]
    },
    {
     "name": "stderr",
     "output_type": "stream",
     "text": [
      "                                                 \r"
     ]
    },
    {
     "name": "stdout",
     "output_type": "stream",
     "text": [
      "====> Epoch: 94 Average loss: 0.0012836796\n"
     ]
    },
    {
     "name": "stderr",
     "output_type": "stream",
     "text": [
      "                                                 \r"
     ]
    },
    {
     "name": "stdout",
     "output_type": "stream",
     "text": [
      "====> Epoch: 95 Average loss: 0.0012810938\n"
     ]
    },
    {
     "name": "stderr",
     "output_type": "stream",
     "text": [
      "                                                 \r"
     ]
    },
    {
     "name": "stdout",
     "output_type": "stream",
     "text": [
      "====> Epoch: 96 Average loss: 0.0012877015\n"
     ]
    },
    {
     "name": "stderr",
     "output_type": "stream",
     "text": [
      "                                                 \r"
     ]
    },
    {
     "name": "stdout",
     "output_type": "stream",
     "text": [
      "====> Epoch: 97 Average loss: 0.0012845707\n"
     ]
    },
    {
     "name": "stderr",
     "output_type": "stream",
     "text": [
      "                                                 \r"
     ]
    },
    {
     "name": "stdout",
     "output_type": "stream",
     "text": [
      "====> Epoch: 98 Average loss: 0.0012862899\n"
     ]
    },
    {
     "name": "stderr",
     "output_type": "stream",
     "text": [
      "                                                 "
     ]
    },
    {
     "name": "stdout",
     "output_type": "stream",
     "text": [
      "====> Epoch: 99 Average loss: 0.0012818797\n"
     ]
    },
    {
     "name": "stderr",
     "output_type": "stream",
     "text": [
      "\r"
     ]
    }
   ],
   "source": [
    "loss_history = []\n",
    "for epoch in range(EPOCH):    \n",
    "    model.train()\n",
    "    train_loss = 0\n",
    "    for batch_idx, (pdb, res_label, atom_coords) in enumerate(tqdm(train_loader, leave=False)):\n",
    "        # Data preparation\n",
    "        x_0 = res_label.to(DEVICE).squeeze(-1)\n",
    "        x_0 = x_0.to(torch.float32)\n",
    "    \n",
    "        n_coords = atom_coords[:, :, 0]\n",
    "        ca_coords = atom_coords[:, :, 1]\n",
    "        c_coords = atom_coords[:, :, 2]\n",
    "\n",
    "        pair_repr = torch.cdist(ca_coords, ca_coords, p=2)\n",
    "        rotations, translations = rigidFrom3Points(n_coords, ca_coords, c_coords)\n",
    "        \n",
    "        # Foward Diffusion\n",
    "        batch_size = atom_coords.shape[0]\n",
    "        t, pt = diffusion.sample_timesteps(batch_size = batch_size, device=DEVICE)\n",
    "\n",
    "        x_t, x_0_ignore, mask = diffusion.seq_q_sample(x_0, t)\n",
    "      \n",
    "        # Backward Diffusion\n",
    "        x_0_hat_logits = model(x_t, pair_repr.to(DEVICE, torch.float32), rotations.to(DEVICE,torch.float32), translations.to(DEVICE, torch.float32))\n",
    "\n",
    "        # Custom loss function\n",
    "        cross_entropy_loss = F.cross_entropy(x_0_hat_logits.transpose(1, 2), \n",
    "                                             x_0_ignore.reshape(batch_size, 20).to(torch.int64), \n",
    "                                             ignore_index = -1, reduction='none').mean(1)\n",
    "        vb_loss = cross_entropy_loss / t\n",
    "        vb_loss = vb_loss / pt\n",
    "        vb_loss = vb_loss / (math.log(2) * x_0.shape[1:].numel())\n",
    "\n",
    "        loss = vb_loss.mean()\n",
    "\n",
    "        optimizer.zero_grad()\n",
    "        loss.backward() # calc gradients\n",
    "        train_loss += loss.item()\n",
    "        optimizer.step() # backpropagation\n",
    "\n",
    "    avg_loss = train_loss / len(train_loader.dataset)\n",
    "    loss_history.append(avg_loss)\n",
    "    print('====> Epoch: {} Average loss: {:.10f}'.format(epoch, avg_loss))"
   ]
  },
  {
   "cell_type": "code",
   "execution_count": 8,
   "metadata": {},
   "outputs": [
    {
     "data": {
      "image/png": "[encoded data removed]",
      "text/plain": [
       "<Figure size 640x480 with 1 Axes>"
      ]
     },
     "metadata": {},
     "output_type": "display_data"
    }
   ],
   "source": [
    "plt.plot(loss_history)\n",
    "plt.xlabel('Epoch')\n",
    "plt.ylabel('Average Loss')\n",
    "plt.title('Loss Descend over Epochs')\n",
    "plt.show()"
   ]
  },
  {
   "cell_type": "code",
   "execution_count": 9,
   "metadata": {},
   "outputs": [],
   "source": [
    "# save the model\n",
    "torch.save(model.state_dict(), './trained_models/sequence_model_pairwise.pt')"
   ]
  },
  {
   "cell_type": "code",
   "execution_count": 17,
   "metadata": {},
   "outputs": [
    {
     "name": "stdout",
     "output_type": "stream",
     "text": [
      "PDB ID: 1hxvA\n",
      "t = 100: ['********************']\n",
      "None\n",
      "t = 99: ['********************']\n",
      "None\n",
      "t = 98: ['********************']\n",
      "None\n",
      "t = 97: ['********************']\n",
      "None\n",
      "t = 96: ['*************L******']\n",
      "None\n",
      "t = 95: ['*************L******']\n",
      "None\n",
      "t = 94: ['********K****L******']\n",
      "None\n",
      "t = 93: ['********K****L******']\n",
      "None\n",
      "t = 92: ['********K****L******']\n",
      "None\n",
      "t = 91: ['********K****L******']\n",
      "None\n",
      "t = 90: ['********K****L******']\n",
      "None\n",
      "t = 89: ['********K****L******']\n",
      "None\n",
      "t = 88: ['********K****L******']\n",
      "None\n",
      "t = 87: ['********K****L******']\n",
      "None\n",
      "t = 86: ['********K****L******']\n",
      "None\n",
      "t = 85: ['********K****L******']\n",
      "None\n",
      "t = 84: ['********K****L******']\n",
      "None\n",
      "t = 83: ['********K****L******']\n",
      "None\n",
      "t = 82: ['********K****L******']\n",
      "None\n",
      "t = 81: ['********K****L****S*']\n",
      "None\n",
      "t = 80: ['********K****L****S*']\n",
      "None\n",
      "t = 79: ['********K****L****S*']\n",
      "None\n",
      "t = 78: ['********K****L****S*']\n",
      "None\n",
      "t = 77: ['********K****L**N*S*']\n",
      "None\n",
      "t = 76: ['********K****L**N*S*']\n",
      "None\n",
      "t = 75: ['********K****L**N*S*']\n",
      "None\n",
      "t = 74: ['********K****L**N*S*']\n",
      "None\n",
      "t = 73: ['****D***K****L**N*S*']\n",
      "None\n",
      "t = 72: ['****D***K****L**N*S*']\n",
      "None\n",
      "t = 71: ['****D***K****L**N*S*']\n",
      "None\n",
      "t = 70: ['****D***K****L**N*S*']\n",
      "None\n",
      "t = 69: ['*I**D***K****L**N*S*']\n",
      "None\n",
      "t = 68: ['*I**D***K****L**N*S*']\n",
      "None\n",
      "t = 67: ['*I**D***K****LL*N*S*']\n",
      "None\n",
      "t = 66: ['*I**D***K****LL*N*S*']\n",
      "None\n",
      "t = 65: ['*I**D***K****LL*N*S*']\n",
      "None\n",
      "t = 64: ['*I**D***K****LL*N*S*']\n",
      "None\n",
      "t = 63: ['*I**D***K****LL*N*ST']\n",
      "None\n",
      "t = 62: ['*I**D***K****LL*N*ST']\n",
      "None\n",
      "t = 61: ['*I**D***K****LL*N*ST']\n",
      "None\n",
      "t = 60: ['*I**D***K****LL*N*ST']\n",
      "None\n",
      "t = 59: ['*I**D***K****LL*N*ST']\n",
      "None\n",
      "t = 58: ['*I**D***K****LL*N*ST']\n",
      "None\n",
      "t = 57: ['*I**D***K****LL*N*ST']\n",
      "None\n",
      "t = 56: ['*I**D***K****LL*N*ST']\n",
      "None\n",
      "t = 55: ['*I**D***K****LL*N*ST']\n",
      "None\n",
      "t = 54: ['*I**D***K****LL*N*ST']\n",
      "None\n",
      "t = 53: ['*I**D***K****LL*N*ST']\n",
      "None\n",
      "t = 52: ['*I**D***K****LL*N*ST']\n",
      "None\n",
      "t = 51: ['*I**D***K****LL*N*ST']\n",
      "None\n",
      "t = 50: ['*I**D***K****LL*N*ST']\n",
      "None\n",
      "t = 49: ['*I**D***K****LL*N*ST']\n",
      "None\n",
      "t = 48: ['*I**D***K****LL*N*ST']\n",
      "None\n",
      "t = 47: ['*I**D***K****LL*N*ST']\n",
      "None\n",
      "t = 46: ['*I**D***K****LL*N*ST']\n",
      "None\n",
      "t = 45: ['*I**D***K****LL*N*ST']\n",
      "None\n",
      "t = 44: ['*I**D***K****LL*N*ST']\n",
      "None\n",
      "t = 43: ['*I**D***K****LL*N*ST']\n",
      "None\n",
      "t = 42: ['*I**D***K****LL*N*ST']\n",
      "None\n",
      "t = 41: ['*I**D***K****LL*N*ST']\n",
      "None\n",
      "t = 40: ['*I**D***K***TLL*N*ST']\n",
      "None\n",
      "t = 39: ['*I**D***K***TLL*N*ST']\n",
      "None\n",
      "t = 38: ['*I**D***K***TLL*N*ST']\n",
      "None\n",
      "t = 37: ['*I**D***K***TLL*N*ST']\n",
      "None\n",
      "t = 36: ['*I**D***K***TLL*N*ST']\n",
      "None\n",
      "t = 35: ['*I**D***K***TLL*N*ST']\n",
      "None\n",
      "t = 34: ['*I**D***K***TLL*N*ST']\n",
      "None\n",
      "t = 33: ['*I**D***K***TLL*N*ST']\n",
      "None\n",
      "t = 32: ['*I**DE**K***TLL*N*ST']\n",
      "None\n",
      "t = 31: ['*I**DE**K***TLL*N*ST']\n",
      "None\n",
      "t = 30: ['*I**DE**K***TLL*NGST']\n",
      "None\n",
      "t = 29: ['*I**DE**K***TLL*NGST']\n",
      "None\n",
      "t = 28: ['*I**DE**K***TLL*NGST']\n",
      "None\n",
      "t = 27: ['*I**DETLK***TLL*NGST']\n",
      "None\n",
      "t = 26: ['*IG*DETLK***TLL*NGST']\n",
      "None\n",
      "t = 25: ['*IG*DETLK***TLL*NGST']\n",
      "None\n",
      "t = 24: ['*IG*DETLK***TLL*NGST']\n",
      "None\n",
      "t = 23: ['*IG*DETLK***TLL*NGST']\n",
      "None\n",
      "t = 22: ['*IG*DETLK***TLL*NGST']\n",
      "None\n",
      "t = 21: ['*IG*DETLK***TLL*NGST']\n",
      "None\n",
      "t = 20: ['*IG*DETLK***TLL*NGST']\n",
      "None\n",
      "t = 19: ['*IG*DETLK***TLL*NGST']\n",
      "None\n",
      "t = 18: ['*IG*DETLK***TLL*NGST']\n",
      "None\n",
      "t = 17: ['*IG*DETLK***TLL*NGST']\n",
      "None\n",
      "t = 16: ['*IG*DETLK***TLL*NGST']\n",
      "None\n",
      "t = 15: ['*IG*DETLK**VTLL*NGST']\n",
      "None\n",
      "t = 14: ['*IG*DETLK**VTLL*NGST']\n",
      "None\n",
      "t = 13: ['*IG*DETLK**VTLL*NGST']\n",
      "None\n",
      "t = 12: ['MIG*DETLK**VTLL*NGST']\n",
      "None\n",
      "t = 11: ['MIG*DETLK**VTLL*NGST']\n",
      "None\n",
      "t = 10: ['MIG*DETLK**VTLL*NGST']\n",
      "None\n",
      "t = 9: ['MIG*DETLK**VTLL*NGST']\n",
      "None\n",
      "t = 8: ['MIG*DETLKI*VTLL*NGST']\n",
      "None\n",
      "t = 7: ['MIG*DETLKI*VTLL*NGST']\n",
      "None\n",
      "t = 6: ['MIG*DETLKI*VTLL*NGST']\n",
      "None\n",
      "t = 5: ['MIG*DETLKI*VTLL*NGST']\n",
      "None\n",
      "t = 4: ['MIG*DETLKIKVTLL*NGST']\n",
      "None\n",
      "t = 3: ['MIG*DETLKIKVTLLPNGST']\n",
      "None\n",
      "t = 2: ['MIGEDETLKIKVTLLPNGST']\n",
      "None\n",
      "t = 1: ['MIGEDETLKIKVTLLPNGST']\n",
      "None\n",
      "ground truth sequence is: KLANGDIAIIDFTGIVDNKK\n"
     ]
    }
   ],
   "source": [
    "# sample\n",
    "model.eval()\n",
    "batch_size = 1\n",
    "seq_length = 20\n",
    "\n",
    "# groud truth sequence\n",
    "pdb_id, res, atom_coords = next(iter(test_loader))\n",
    "atom_coords = atom_coords.to(torch.float32)\n",
    "n_coords = atom_coords[:, :, 0]\n",
    "ca_coords = atom_coords[:, :, 1]\n",
    "c_coords = atom_coords[:, :, 2]\n",
    "rotations, translations = rigidFrom3Points(n_coords, ca_coords, c_coords)\n",
    "pair_repr = torch.cdist(ca_coords, ca_coords, p=2).to(DEVICE)\n",
    "\n",
    "res = res.squeeze()\n",
    "sequences = tensor_to_string(res, label_res_dict)\n",
    "print(\"PDB ID:\",pdb_id[0])\n",
    "\n",
    "# prepare data, only generate one sequence corresponding to ground truth backbone structure\n",
    "x_t = torch.ones(batch_size, seq_length, device=DEVICE, dtype=torch.int64) * 21\n",
    "\n",
    "rotation = rotations[0].unsqueeze(0)\n",
    "translation = translations[0].unsqueeze(0)\n",
    "rotation = rotation.to(DEVICE)\n",
    "translation = translation.to(DEVICE)\n",
    "pair_repr = pair_repr[0].unsqueeze(0)\n",
    "\n",
    "#rotations = repeat(torch.eye(3), 'r1 r2 -> b n r1 r2', b = batch_size, n = seq_length)\n",
    "#translations  = torch.randn(batch_size, seq_length, 3, device=DEVICE)\n",
    "unmasked = torch.zeros_like(x_t, device=DEVICE).bool()\n",
    "sample_steps = list(range(1, 100+1))\n",
    "\n",
    "# sample\n",
    "for t in reversed(sample_steps):\n",
    "  t = torch.full((batch_size,), t, device=DEVICE, dtype=torch.int64)\n",
    "  # where to unmask\n",
    "  t_mask = t.reshape(batch_size, 1)\n",
    "  t_mask = t_mask.expand(batch_size, 20)\n",
    "\n",
    "  changes = torch.rand_like(x_t.float()) < 1 / t_mask.float()\n",
    "  changes = torch.bitwise_xor(changes, torch.bitwise_and(changes, unmasked))\n",
    "  \n",
    "  # update mask with changes\n",
    "  unmasked = torch.bitwise_or(unmasked, changes)\n",
    "  x_0_logits = model(x_t.float(), pair_repr, rotation, translation)\n",
    "  index = torch.argmax(x_0_logits,dim=2)\n",
    "\n",
    "  x_t.long()[changes] = index.long()[changes]\n",
    "\n",
    "  sequence = tensor_to_string(x_t, label_res_dict)\n",
    "  print(print(f\"t = {t.item()}:\", sequence))\n",
    "\n",
    "print(\"ground truth sequence is:\", sequences[0])"
   ]
  }
 ],
 "metadata": {
  "kernelspec": {
   "display_name": "base",
   "language": "python",
   "name": "python3"
  },
  "language_info": {
   "codemirror_mode": {
    "name": "ipython",
    "version": 3
   },
   "file_extension": ".py",
   "mimetype": "text/x-python",
   "name": "python",
   "nbconvert_exporter": "python",
   "pygments_lexer": "ipython3",
   "version": "3.9.16"
  },
  "orig_nbformat": 4,
  "vscode": {
   "interpreter": {
    "hash": "effbe0922462656eabbb4f3849a1f92ba409f9c341344d950dfe35ae5b41e61b"
   }
  }
 },
 "nbformat": 4,
 "nbformat_minor": 2
}

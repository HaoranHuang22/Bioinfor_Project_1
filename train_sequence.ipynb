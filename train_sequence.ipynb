{
 "cells": [
  {
   "cell_type": "code",
   "execution_count": 15,
   "metadata": {},
   "outputs": [],
   "source": [
    "import torch\n",
    "from torch import optim\n",
    "from torch.optim import Adam\n",
    "from tqdm import tqdm\n",
    "import matplotlib.pyplot as plt\n",
    "from einops import repeat\n",
    "\n",
    "import pandas as pd\n",
    "from scipy.stats import binom\n",
    "\n",
    "from utils.data import *\n",
    "from common.res_infor import *\n",
    "from utils.dataset import *\n",
    "from diffusion_model.sequence_diffusion_model import *\n",
    "from benchmark.sequence_metric import sequence_recovery_rate"
   ]
  },
  {
   "cell_type": "code",
   "execution_count": 3,
   "metadata": {},
   "outputs": [],
   "source": [
    "DEVICE = torch.device('cuda' if torch.cuda.is_available() else 'cpu')\n",
    "EPOCH = 100\n",
    "LEARNING_RATE = 1e-3\n",
    "fixed_length = 16"
   ]
  },
  {
   "cell_type": "code",
   "execution_count": 4,
   "metadata": {},
   "outputs": [],
   "source": [
    "# Load data\n",
    "train_data = pd.read_csv('./data/train_data.csv')\n",
    "test_data = pd.read_csv('./data/test_data.csv')"
   ]
  },
  {
   "cell_type": "code",
   "execution_count": 5,
   "metadata": {},
   "outputs": [],
   "source": [
    "# subsample data\n",
    "train_data = subsample_protein_data(train_data, fixed_length=fixed_length)\n",
    "test_data = subsample_protein_data(test_data, fixed_length=fixed_length)"
   ]
  },
  {
   "cell_type": "code",
   "execution_count": 6,
   "metadata": {},
   "outputs": [],
   "source": [
    "# Data loader\n",
    "train_dataset = ProteinDataset(train_data)\n",
    "test_dataset = ProteinDataset(test_data)\n",
    "train_loader = DataLoader(train_dataset, batch_size=128, shuffle=True)\n",
    "test_loader = DataLoader(test_dataset, shuffle=False, batch_size=128)"
   ]
  },
  {
   "attachments": {},
   "cell_type": "markdown",
   "metadata": {},
   "source": [
    "# Print some Sequence data"
   ]
  },
  {
   "cell_type": "code",
   "execution_count": 7,
   "metadata": {},
   "outputs": [
    {
     "name": "stdout",
     "output_type": "stream",
     "text": [
      "(\"('1ldj', 'A')\", \"('3f6c', 'A')\", \"('3cip', 'A')\", \"('1dbh', 'A')\", \"('1j3m', 'A')\")\n",
      "['LDQIWDDLRAGIQQVY', 'SLNAIIIDDHPLAIAA', 'VQALVIDNGSGMCKAG', 'EQTYYDLVKAFAEIRQ', 'GMRKTLKATLAEARAQ']\n"
     ]
    }
   ],
   "source": [
    "# print some Sequence data\n",
    "def tensor_to_string(tensor, label_res_dict):\n",
    "    sequences = []\n",
    "    for i in range(tensor.size(0)):\n",
    "        sequence = \"\"\n",
    "        for residue in tensor[i]:\n",
    "            if residue.item() == 0:\n",
    "                sequence += '-'  # Skip this residue\n",
    "            elif residue.item() == 21:\n",
    "                sequence += \"*\"\n",
    "            else:\n",
    "                sequence += label_res_dict[residue.item()]\n",
    "        sequences.append(sequence)\n",
    "    return sequences\n",
    "    \n",
    "for batch_idx, (pdb_id, res, atom_coords, mask) in enumerate(train_loader):\n",
    "    sequences = tensor_to_string(res, label_res_dict)\n",
    "    print(pdb_id[:5])\n",
    "    print(sequences[:5])\n",
    "    break"
   ]
  },
  {
   "attachments": {},
   "cell_type": "markdown",
   "metadata": {},
   "source": [
    "# Visualization of the forward process"
   ]
  },
  {
   "cell_type": "code",
   "execution_count": 8,
   "metadata": {},
   "outputs": [
    {
     "name": "stdout",
     "output_type": "stream",
     "text": [
      "('2q7a', 'A')\n",
      "t = 0: ['MDKGQIYGSIIQRNYR']\n",
      "t = 10: ['MDKGQIYGSIIQRN*R']\n",
      "t = 20: ['*DKGQIY*SIIQRN*R']\n",
      "t = 30: ['**KGQIY*****RN*R']\n",
      "t = 40: ['**KGQI******R**R']\n",
      "t = 50: ['*****I*********R']\n",
      "t = 60: ['*****I**********']\n",
      "t = 70: ['****************']\n",
      "t = 80: ['****************']\n",
      "t = 90: ['****************']\n",
      "t = 100: ['****************']\n"
     ]
    }
   ],
   "source": [
    "# Visualization of the forward process\n",
    "diffusion = SequenceDiffusion(res_num=fixed_length)\n",
    "\n",
    "pdb_id, res, _, _= next(iter(train_loader))\n",
    "pdb_1 = pdb_id[0]\n",
    "x_t = res[0].reshape(1, -1)\n",
    "print(pdb_1)\n",
    "\n",
    "for t in range(0, 101, 10):\n",
    "    t = torch.tensor([t])\n",
    "    x_t, _, _= diffusion.seq_q_sample(x_t, t)\n",
    "    sequences = tensor_to_string(x_t, label_res_dict)\n",
    "    print(f\"t = {t.item()}:\", sequences)"
   ]
  },
  {
   "attachments": {},
   "cell_type": "markdown",
   "metadata": {},
   "source": [
    "# Model training"
   ]
  },
  {
   "cell_type": "code",
   "execution_count": 9,
   "metadata": {},
   "outputs": [],
   "source": [
    "diffusion = SequenceDiffusion(res_num=fixed_length, device=DEVICE)\n",
    "model = SequenceModel().to(DEVICE)\n",
    "optimizer = optim.Adam(params=model.parameters(), lr = 1e-3)"
   ]
  },
  {
   "cell_type": "code",
   "execution_count": 17,
   "metadata": {},
   "outputs": [
    {
     "name": "stderr",
     "output_type": "stream",
     "text": [
      "                                                 \r"
     ]
    },
    {
     "name": "stdout",
     "output_type": "stream",
     "text": [
      "====> Epoch: 0 Average loss: 0.3460903548\n"
     ]
    },
    {
     "name": "stderr",
     "output_type": "stream",
     "text": [
      "                                                 \r"
     ]
    },
    {
     "name": "stdout",
     "output_type": "stream",
     "text": [
      "====> Epoch: 1 Average loss: 0.3319926932\n"
     ]
    },
    {
     "name": "stderr",
     "output_type": "stream",
     "text": [
      "                                                 \r"
     ]
    },
    {
     "name": "stdout",
     "output_type": "stream",
     "text": [
      "====> Epoch: 2 Average loss: 0.3245090068\n"
     ]
    },
    {
     "name": "stderr",
     "output_type": "stream",
     "text": [
      "                                                 \r"
     ]
    },
    {
     "name": "stdout",
     "output_type": "stream",
     "text": [
      "====> Epoch: 3 Average loss: 0.3191331991\n"
     ]
    },
    {
     "name": "stderr",
     "output_type": "stream",
     "text": [
      "                                                 \r"
     ]
    },
    {
     "name": "stdout",
     "output_type": "stream",
     "text": [
      "====> Epoch: 4 Average loss: 0.3163530108\n"
     ]
    },
    {
     "name": "stderr",
     "output_type": "stream",
     "text": [
      "                                                 \r"
     ]
    },
    {
     "name": "stdout",
     "output_type": "stream",
     "text": [
      "====> Epoch: 5 Average loss: 0.3140725874\n"
     ]
    },
    {
     "name": "stderr",
     "output_type": "stream",
     "text": [
      "                                                 \r"
     ]
    },
    {
     "name": "stdout",
     "output_type": "stream",
     "text": [
      "====> Epoch: 6 Average loss: 0.3128597781\n"
     ]
    },
    {
     "name": "stderr",
     "output_type": "stream",
     "text": [
      "                                                 \r"
     ]
    },
    {
     "name": "stdout",
     "output_type": "stream",
     "text": [
      "====> Epoch: 7 Average loss: 0.3123410245\n"
     ]
    },
    {
     "name": "stderr",
     "output_type": "stream",
     "text": [
      "                                                 \r"
     ]
    },
    {
     "name": "stdout",
     "output_type": "stream",
     "text": [
      "====> Epoch: 8 Average loss: 0.3112907046\n"
     ]
    },
    {
     "name": "stderr",
     "output_type": "stream",
     "text": [
      "                                                 \r"
     ]
    },
    {
     "name": "stdout",
     "output_type": "stream",
     "text": [
      "====> Epoch: 9 Average loss: 0.3087270296\n"
     ]
    },
    {
     "name": "stderr",
     "output_type": "stream",
     "text": [
      "                                                 \r"
     ]
    },
    {
     "name": "stdout",
     "output_type": "stream",
     "text": [
      "====> Epoch: 10 Average loss: 0.3081416121\n"
     ]
    },
    {
     "name": "stderr",
     "output_type": "stream",
     "text": [
      "                                                 \r"
     ]
    },
    {
     "name": "stdout",
     "output_type": "stream",
     "text": [
      "====> Epoch: 11 Average loss: 0.3077657729\n"
     ]
    },
    {
     "name": "stderr",
     "output_type": "stream",
     "text": [
      "                                                 \r"
     ]
    },
    {
     "name": "stdout",
     "output_type": "stream",
     "text": [
      "====> Epoch: 12 Average loss: 0.3053580696\n"
     ]
    },
    {
     "name": "stderr",
     "output_type": "stream",
     "text": [
      "                                                 \r"
     ]
    },
    {
     "name": "stdout",
     "output_type": "stream",
     "text": [
      "====> Epoch: 13 Average loss: 0.3050264772\n"
     ]
    },
    {
     "name": "stderr",
     "output_type": "stream",
     "text": [
      "                                                 \r"
     ]
    },
    {
     "name": "stdout",
     "output_type": "stream",
     "text": [
      "====> Epoch: 14 Average loss: 0.3054630124\n"
     ]
    },
    {
     "name": "stderr",
     "output_type": "stream",
     "text": [
      "                                                 \r"
     ]
    },
    {
     "name": "stdout",
     "output_type": "stream",
     "text": [
      "====> Epoch: 15 Average loss: 0.3024928519\n"
     ]
    },
    {
     "name": "stderr",
     "output_type": "stream",
     "text": [
      "                                                 \r"
     ]
    },
    {
     "name": "stdout",
     "output_type": "stream",
     "text": [
      "====> Epoch: 16 Average loss: 0.3031590306\n"
     ]
    },
    {
     "name": "stderr",
     "output_type": "stream",
     "text": [
      "                                                 \r"
     ]
    },
    {
     "name": "stdout",
     "output_type": "stream",
     "text": [
      "====> Epoch: 17 Average loss: 0.3017780607\n"
     ]
    },
    {
     "name": "stderr",
     "output_type": "stream",
     "text": [
      "                                                 \r"
     ]
    },
    {
     "name": "stdout",
     "output_type": "stream",
     "text": [
      "====> Epoch: 18 Average loss: 0.3032488690\n"
     ]
    },
    {
     "name": "stderr",
     "output_type": "stream",
     "text": [
      "                                                 \r"
     ]
    },
    {
     "name": "stdout",
     "output_type": "stream",
     "text": [
      "====> Epoch: 19 Average loss: 0.3023768404\n"
     ]
    },
    {
     "name": "stderr",
     "output_type": "stream",
     "text": [
      "                                                 \r"
     ]
    },
    {
     "name": "stdout",
     "output_type": "stream",
     "text": [
      "====> Epoch: 20 Average loss: 0.3018415694\n"
     ]
    },
    {
     "name": "stderr",
     "output_type": "stream",
     "text": [
      "                                                 \r"
     ]
    },
    {
     "name": "stdout",
     "output_type": "stream",
     "text": [
      "====> Epoch: 21 Average loss: 0.3006895073\n"
     ]
    },
    {
     "name": "stderr",
     "output_type": "stream",
     "text": [
      "                                                 \r"
     ]
    },
    {
     "name": "stdout",
     "output_type": "stream",
     "text": [
      "====> Epoch: 22 Average loss: 0.2982219932\n"
     ]
    },
    {
     "name": "stderr",
     "output_type": "stream",
     "text": [
      "                                                 \r"
     ]
    },
    {
     "name": "stdout",
     "output_type": "stream",
     "text": [
      "====> Epoch: 23 Average loss: 0.2992866715\n"
     ]
    },
    {
     "name": "stderr",
     "output_type": "stream",
     "text": [
      "                                                 \r"
     ]
    },
    {
     "name": "stdout",
     "output_type": "stream",
     "text": [
      "====> Epoch: 24 Average loss: 0.2999059087\n"
     ]
    },
    {
     "name": "stderr",
     "output_type": "stream",
     "text": [
      "                                                 \r"
     ]
    },
    {
     "name": "stdout",
     "output_type": "stream",
     "text": [
      "====> Epoch: 25 Average loss: 0.2989501969\n"
     ]
    },
    {
     "name": "stderr",
     "output_type": "stream",
     "text": [
      "                                                 \r"
     ]
    },
    {
     "name": "stdout",
     "output_type": "stream",
     "text": [
      "====> Epoch: 26 Average loss: 0.2980559668\n"
     ]
    },
    {
     "name": "stderr",
     "output_type": "stream",
     "text": [
      "                                                 \r"
     ]
    },
    {
     "name": "stdout",
     "output_type": "stream",
     "text": [
      "====> Epoch: 27 Average loss: 0.2982531365\n"
     ]
    },
    {
     "name": "stderr",
     "output_type": "stream",
     "text": [
      "                                                 \r"
     ]
    },
    {
     "name": "stdout",
     "output_type": "stream",
     "text": [
      "====> Epoch: 28 Average loss: 0.2972076239\n"
     ]
    },
    {
     "name": "stderr",
     "output_type": "stream",
     "text": [
      "                                                 \r"
     ]
    },
    {
     "name": "stdout",
     "output_type": "stream",
     "text": [
      "====> Epoch: 29 Average loss: 0.2965323601\n"
     ]
    },
    {
     "name": "stderr",
     "output_type": "stream",
     "text": [
      "                                                 \r"
     ]
    },
    {
     "name": "stdout",
     "output_type": "stream",
     "text": [
      "====> Epoch: 30 Average loss: 0.2964891492\n"
     ]
    },
    {
     "name": "stderr",
     "output_type": "stream",
     "text": [
      "                                                 \r"
     ]
    },
    {
     "name": "stdout",
     "output_type": "stream",
     "text": [
      "====> Epoch: 31 Average loss: 0.2980420666\n"
     ]
    },
    {
     "name": "stderr",
     "output_type": "stream",
     "text": [
      "                                                 \r"
     ]
    },
    {
     "name": "stdout",
     "output_type": "stream",
     "text": [
      "====> Epoch: 32 Average loss: 0.2964782311\n"
     ]
    },
    {
     "name": "stderr",
     "output_type": "stream",
     "text": [
      "                                                 \r"
     ]
    },
    {
     "name": "stdout",
     "output_type": "stream",
     "text": [
      "====> Epoch: 33 Average loss: 0.2962444673\n"
     ]
    },
    {
     "name": "stderr",
     "output_type": "stream",
     "text": [
      "                                                 \r"
     ]
    },
    {
     "name": "stdout",
     "output_type": "stream",
     "text": [
      "====> Epoch: 34 Average loss: 0.2981540539\n"
     ]
    },
    {
     "name": "stderr",
     "output_type": "stream",
     "text": [
      "                                                 \r"
     ]
    },
    {
     "name": "stdout",
     "output_type": "stream",
     "text": [
      "====> Epoch: 35 Average loss: 0.2959734621\n"
     ]
    },
    {
     "name": "stderr",
     "output_type": "stream",
     "text": [
      "                                                 \r"
     ]
    },
    {
     "name": "stdout",
     "output_type": "stream",
     "text": [
      "====> Epoch: 36 Average loss: 0.2942953906\n"
     ]
    },
    {
     "name": "stderr",
     "output_type": "stream",
     "text": [
      "                                                 \r"
     ]
    },
    {
     "name": "stdout",
     "output_type": "stream",
     "text": [
      "====> Epoch: 37 Average loss: 0.2941845073\n"
     ]
    },
    {
     "name": "stderr",
     "output_type": "stream",
     "text": [
      "                                                 \r"
     ]
    },
    {
     "name": "stdout",
     "output_type": "stream",
     "text": [
      "====> Epoch: 38 Average loss: 0.2944126939\n"
     ]
    },
    {
     "name": "stderr",
     "output_type": "stream",
     "text": [
      "                                                 \r"
     ]
    },
    {
     "name": "stdout",
     "output_type": "stream",
     "text": [
      "====> Epoch: 39 Average loss: 0.2966698254\n"
     ]
    },
    {
     "name": "stderr",
     "output_type": "stream",
     "text": [
      "                                                 \r"
     ]
    },
    {
     "name": "stdout",
     "output_type": "stream",
     "text": [
      "====> Epoch: 40 Average loss: 0.2928641762\n"
     ]
    },
    {
     "name": "stderr",
     "output_type": "stream",
     "text": [
      "                                                 \r"
     ]
    },
    {
     "name": "stdout",
     "output_type": "stream",
     "text": [
      "====> Epoch: 41 Average loss: 0.2942011622\n"
     ]
    },
    {
     "name": "stderr",
     "output_type": "stream",
     "text": [
      "                                                 \r"
     ]
    },
    {
     "name": "stdout",
     "output_type": "stream",
     "text": [
      "====> Epoch: 42 Average loss: 0.2936451345\n"
     ]
    },
    {
     "name": "stderr",
     "output_type": "stream",
     "text": [
      "                                                 \r"
     ]
    },
    {
     "name": "stdout",
     "output_type": "stream",
     "text": [
      "====> Epoch: 43 Average loss: 0.2933226011\n"
     ]
    },
    {
     "name": "stderr",
     "output_type": "stream",
     "text": [
      "                                                 \r"
     ]
    },
    {
     "name": "stdout",
     "output_type": "stream",
     "text": [
      "====> Epoch: 44 Average loss: 0.2944115740\n"
     ]
    },
    {
     "name": "stderr",
     "output_type": "stream",
     "text": [
      "                                                 \r"
     ]
    },
    {
     "name": "stdout",
     "output_type": "stream",
     "text": [
      "====> Epoch: 45 Average loss: 0.2926186309\n"
     ]
    },
    {
     "name": "stderr",
     "output_type": "stream",
     "text": [
      "                                                 \r"
     ]
    },
    {
     "name": "stdout",
     "output_type": "stream",
     "text": [
      "====> Epoch: 46 Average loss: 0.2939227166\n"
     ]
    },
    {
     "name": "stderr",
     "output_type": "stream",
     "text": [
      "                                                 \r"
     ]
    },
    {
     "name": "stdout",
     "output_type": "stream",
     "text": [
      "====> Epoch: 47 Average loss: 0.2935051598\n"
     ]
    },
    {
     "name": "stderr",
     "output_type": "stream",
     "text": [
      "                                                 \r"
     ]
    },
    {
     "name": "stdout",
     "output_type": "stream",
     "text": [
      "====> Epoch: 48 Average loss: 0.2929167739\n"
     ]
    },
    {
     "name": "stderr",
     "output_type": "stream",
     "text": [
      "                                                 \r"
     ]
    },
    {
     "name": "stdout",
     "output_type": "stream",
     "text": [
      "====> Epoch: 49 Average loss: 0.2930608542\n"
     ]
    },
    {
     "name": "stderr",
     "output_type": "stream",
     "text": [
      "                                                 \r"
     ]
    },
    {
     "name": "stdout",
     "output_type": "stream",
     "text": [
      "====> Epoch: 50 Average loss: 0.2921673224\n"
     ]
    },
    {
     "name": "stderr",
     "output_type": "stream",
     "text": [
      "                                                 \r"
     ]
    },
    {
     "name": "stdout",
     "output_type": "stream",
     "text": [
      "====> Epoch: 51 Average loss: 0.2911168541\n"
     ]
    },
    {
     "name": "stderr",
     "output_type": "stream",
     "text": [
      "                                                 \r"
     ]
    },
    {
     "name": "stdout",
     "output_type": "stream",
     "text": [
      "====> Epoch: 52 Average loss: 0.2903940714\n"
     ]
    },
    {
     "name": "stderr",
     "output_type": "stream",
     "text": [
      "                                                 \r"
     ]
    },
    {
     "name": "stdout",
     "output_type": "stream",
     "text": [
      "====> Epoch: 53 Average loss: 0.2915121304\n"
     ]
    },
    {
     "name": "stderr",
     "output_type": "stream",
     "text": [
      "                                                 \r"
     ]
    },
    {
     "name": "stdout",
     "output_type": "stream",
     "text": [
      "====> Epoch: 54 Average loss: 0.2912986661\n"
     ]
    },
    {
     "name": "stderr",
     "output_type": "stream",
     "text": [
      "                                                 \r"
     ]
    },
    {
     "name": "stdout",
     "output_type": "stream",
     "text": [
      "====> Epoch: 55 Average loss: 0.2914025711\n"
     ]
    },
    {
     "name": "stderr",
     "output_type": "stream",
     "text": [
      "                                                 \r"
     ]
    },
    {
     "name": "stdout",
     "output_type": "stream",
     "text": [
      "====> Epoch: 56 Average loss: 0.2921066962\n"
     ]
    },
    {
     "name": "stderr",
     "output_type": "stream",
     "text": [
      "                                                 \r"
     ]
    },
    {
     "name": "stdout",
     "output_type": "stream",
     "text": [
      "====> Epoch: 57 Average loss: 0.2896903823\n"
     ]
    },
    {
     "name": "stderr",
     "output_type": "stream",
     "text": [
      "                                                 \r"
     ]
    },
    {
     "name": "stdout",
     "output_type": "stream",
     "text": [
      "====> Epoch: 58 Average loss: 0.2895371620\n"
     ]
    },
    {
     "name": "stderr",
     "output_type": "stream",
     "text": [
      "                                                 \r"
     ]
    },
    {
     "name": "stdout",
     "output_type": "stream",
     "text": [
      "====> Epoch: 59 Average loss: 0.2905709517\n"
     ]
    },
    {
     "name": "stderr",
     "output_type": "stream",
     "text": [
      "                                                 \r"
     ]
    },
    {
     "name": "stdout",
     "output_type": "stream",
     "text": [
      "====> Epoch: 60 Average loss: 0.2896169176\n"
     ]
    },
    {
     "name": "stderr",
     "output_type": "stream",
     "text": [
      "                                                 \r"
     ]
    },
    {
     "name": "stdout",
     "output_type": "stream",
     "text": [
      "====> Epoch: 61 Average loss: 0.2904299811\n"
     ]
    },
    {
     "name": "stderr",
     "output_type": "stream",
     "text": [
      "                                                 \r"
     ]
    },
    {
     "name": "stdout",
     "output_type": "stream",
     "text": [
      "====> Epoch: 62 Average loss: 0.2906320042\n"
     ]
    },
    {
     "name": "stderr",
     "output_type": "stream",
     "text": [
      "                                                 \r"
     ]
    },
    {
     "name": "stdout",
     "output_type": "stream",
     "text": [
      "====> Epoch: 63 Average loss: 0.2896505491\n"
     ]
    },
    {
     "name": "stderr",
     "output_type": "stream",
     "text": [
      "                                                 \r"
     ]
    },
    {
     "name": "stdout",
     "output_type": "stream",
     "text": [
      "====> Epoch: 64 Average loss: 0.2923819861\n"
     ]
    },
    {
     "name": "stderr",
     "output_type": "stream",
     "text": [
      "                                                 \r"
     ]
    },
    {
     "name": "stdout",
     "output_type": "stream",
     "text": [
      "====> Epoch: 65 Average loss: 0.2889340358\n"
     ]
    },
    {
     "name": "stderr",
     "output_type": "stream",
     "text": [
      "                                                 \r"
     ]
    },
    {
     "name": "stdout",
     "output_type": "stream",
     "text": [
      "====> Epoch: 66 Average loss: 0.2913346379\n"
     ]
    },
    {
     "name": "stderr",
     "output_type": "stream",
     "text": [
      "                                                 \r"
     ]
    },
    {
     "name": "stdout",
     "output_type": "stream",
     "text": [
      "====> Epoch: 67 Average loss: 0.2894098327\n"
     ]
    },
    {
     "name": "stderr",
     "output_type": "stream",
     "text": [
      "                                                 \r"
     ]
    },
    {
     "name": "stdout",
     "output_type": "stream",
     "text": [
      "====> Epoch: 68 Average loss: 0.2891096243\n"
     ]
    },
    {
     "name": "stderr",
     "output_type": "stream",
     "text": [
      "                                                 \r"
     ]
    },
    {
     "name": "stdout",
     "output_type": "stream",
     "text": [
      "====> Epoch: 69 Average loss: 0.2899193102\n"
     ]
    },
    {
     "name": "stderr",
     "output_type": "stream",
     "text": [
      "                                                 \r"
     ]
    },
    {
     "name": "stdout",
     "output_type": "stream",
     "text": [
      "====> Epoch: 70 Average loss: 0.2896975107\n"
     ]
    },
    {
     "name": "stderr",
     "output_type": "stream",
     "text": [
      "                                                 \r"
     ]
    },
    {
     "name": "stdout",
     "output_type": "stream",
     "text": [
      "====> Epoch: 71 Average loss: 0.2893274109\n"
     ]
    },
    {
     "name": "stderr",
     "output_type": "stream",
     "text": [
      "                                                 \r"
     ]
    },
    {
     "name": "stdout",
     "output_type": "stream",
     "text": [
      "====> Epoch: 72 Average loss: 0.2910581321\n"
     ]
    },
    {
     "name": "stderr",
     "output_type": "stream",
     "text": [
      "                                                 \r"
     ]
    },
    {
     "name": "stdout",
     "output_type": "stream",
     "text": [
      "====> Epoch: 73 Average loss: 0.2897118419\n"
     ]
    },
    {
     "name": "stderr",
     "output_type": "stream",
     "text": [
      "                                                 \r"
     ]
    },
    {
     "name": "stdout",
     "output_type": "stream",
     "text": [
      "====> Epoch: 74 Average loss: 0.2896560193\n"
     ]
    },
    {
     "name": "stderr",
     "output_type": "stream",
     "text": [
      "                                                 \r"
     ]
    },
    {
     "name": "stdout",
     "output_type": "stream",
     "text": [
      "====> Epoch: 75 Average loss: 0.2887703235\n"
     ]
    },
    {
     "name": "stderr",
     "output_type": "stream",
     "text": [
      "                                                 \r"
     ]
    },
    {
     "name": "stdout",
     "output_type": "stream",
     "text": [
      "====> Epoch: 76 Average loss: 0.2885069803\n"
     ]
    },
    {
     "name": "stderr",
     "output_type": "stream",
     "text": [
      "                                                 \r"
     ]
    },
    {
     "name": "stdout",
     "output_type": "stream",
     "text": [
      "====> Epoch: 77 Average loss: 0.2889518439\n"
     ]
    },
    {
     "name": "stderr",
     "output_type": "stream",
     "text": [
      "                                                 \r"
     ]
    },
    {
     "name": "stdout",
     "output_type": "stream",
     "text": [
      "====> Epoch: 78 Average loss: 0.2904189998\n"
     ]
    },
    {
     "name": "stderr",
     "output_type": "stream",
     "text": [
      "                                                 \r"
     ]
    },
    {
     "name": "stdout",
     "output_type": "stream",
     "text": [
      "====> Epoch: 79 Average loss: 0.2883116846\n"
     ]
    },
    {
     "name": "stderr",
     "output_type": "stream",
     "text": [
      "                                                 \r"
     ]
    },
    {
     "name": "stdout",
     "output_type": "stream",
     "text": [
      "====> Epoch: 80 Average loss: 0.2891281854\n"
     ]
    },
    {
     "name": "stderr",
     "output_type": "stream",
     "text": [
      "                                                 \r"
     ]
    },
    {
     "name": "stdout",
     "output_type": "stream",
     "text": [
      "====> Epoch: 81 Average loss: 0.2900087171\n"
     ]
    },
    {
     "name": "stderr",
     "output_type": "stream",
     "text": [
      "                                                 \r"
     ]
    },
    {
     "name": "stdout",
     "output_type": "stream",
     "text": [
      "====> Epoch: 82 Average loss: 0.2882887967\n"
     ]
    },
    {
     "name": "stderr",
     "output_type": "stream",
     "text": [
      "                                                 \r"
     ]
    },
    {
     "name": "stdout",
     "output_type": "stream",
     "text": [
      "====> Epoch: 83 Average loss: 0.2879259983\n"
     ]
    },
    {
     "name": "stderr",
     "output_type": "stream",
     "text": [
      "                                                 \r"
     ]
    },
    {
     "name": "stdout",
     "output_type": "stream",
     "text": [
      "====> Epoch: 84 Average loss: 0.2881232890\n"
     ]
    },
    {
     "name": "stderr",
     "output_type": "stream",
     "text": [
      "                                                 \r"
     ]
    },
    {
     "name": "stdout",
     "output_type": "stream",
     "text": [
      "====> Epoch: 85 Average loss: 0.2882973792\n"
     ]
    },
    {
     "name": "stderr",
     "output_type": "stream",
     "text": [
      "                                                 \r"
     ]
    },
    {
     "name": "stdout",
     "output_type": "stream",
     "text": [
      "====> Epoch: 86 Average loss: 0.2897781675\n"
     ]
    },
    {
     "name": "stderr",
     "output_type": "stream",
     "text": [
      "                                                 \r"
     ]
    },
    {
     "name": "stdout",
     "output_type": "stream",
     "text": [
      "====> Epoch: 87 Average loss: 0.2887970900\n"
     ]
    },
    {
     "name": "stderr",
     "output_type": "stream",
     "text": [
      "                                                 \r"
     ]
    },
    {
     "name": "stdout",
     "output_type": "stream",
     "text": [
      "====> Epoch: 88 Average loss: 0.2873398735\n"
     ]
    },
    {
     "name": "stderr",
     "output_type": "stream",
     "text": [
      "                                                 \r"
     ]
    },
    {
     "name": "stdout",
     "output_type": "stream",
     "text": [
      "====> Epoch: 89 Average loss: 0.2874197545\n"
     ]
    },
    {
     "name": "stderr",
     "output_type": "stream",
     "text": [
      "                                                 \r"
     ]
    },
    {
     "name": "stdout",
     "output_type": "stream",
     "text": [
      "====> Epoch: 90 Average loss: 0.2869179005\n"
     ]
    },
    {
     "name": "stderr",
     "output_type": "stream",
     "text": [
      "                                                 \r"
     ]
    },
    {
     "name": "stdout",
     "output_type": "stream",
     "text": [
      "====> Epoch: 91 Average loss: 0.2887616391\n"
     ]
    },
    {
     "name": "stderr",
     "output_type": "stream",
     "text": [
      "                                                 \r"
     ]
    },
    {
     "name": "stdout",
     "output_type": "stream",
     "text": [
      "====> Epoch: 92 Average loss: 0.2871722826\n"
     ]
    },
    {
     "name": "stderr",
     "output_type": "stream",
     "text": [
      "                                                 \r"
     ]
    },
    {
     "name": "stdout",
     "output_type": "stream",
     "text": [
      "====> Epoch: 93 Average loss: 0.2875583155\n"
     ]
    },
    {
     "name": "stderr",
     "output_type": "stream",
     "text": [
      "                                                 \r"
     ]
    },
    {
     "name": "stdout",
     "output_type": "stream",
     "text": [
      "====> Epoch: 94 Average loss: 0.2873966858\n"
     ]
    },
    {
     "name": "stderr",
     "output_type": "stream",
     "text": [
      "                                                 \r"
     ]
    },
    {
     "name": "stdout",
     "output_type": "stream",
     "text": [
      "====> Epoch: 95 Average loss: 0.2861580778\n"
     ]
    },
    {
     "name": "stderr",
     "output_type": "stream",
     "text": [
      "                                                 \r"
     ]
    },
    {
     "name": "stdout",
     "output_type": "stream",
     "text": [
      "====> Epoch: 96 Average loss: 0.2883290549\n"
     ]
    },
    {
     "name": "stderr",
     "output_type": "stream",
     "text": [
      "                                                 \r"
     ]
    },
    {
     "name": "stdout",
     "output_type": "stream",
     "text": [
      "====> Epoch: 97 Average loss: 0.2881516660\n"
     ]
    },
    {
     "name": "stderr",
     "output_type": "stream",
     "text": [
      "                                                 \r"
     ]
    },
    {
     "name": "stdout",
     "output_type": "stream",
     "text": [
      "====> Epoch: 98 Average loss: 0.2869076971\n"
     ]
    },
    {
     "name": "stderr",
     "output_type": "stream",
     "text": [
      "                                                 "
     ]
    },
    {
     "name": "stdout",
     "output_type": "stream",
     "text": [
      "====> Epoch: 99 Average loss: 0.2874965078\n"
     ]
    },
    {
     "name": "stderr",
     "output_type": "stream",
     "text": [
      "\r"
     ]
    }
   ],
   "source": [
    "loss_history = []\n",
    "for epoch in range(EPOCH):    \n",
    "    model.train()\n",
    "    train_loss = 0\n",
    "    for batch_idx, (pdb, res_label, atom_coords, mask) in enumerate(tqdm(train_loader, leave=False)):\n",
    "        # Data preparation\n",
    "        x_0 = res_label.to(DEVICE)\n",
    "        x_0 = x_0.to(torch.float32)\n",
    "    \n",
    "        n_coords = atom_coords[:, :, 0]\n",
    "        ca_coords = atom_coords[:, :, 1]\n",
    "        c_coords = atom_coords[:, :, 2]\n",
    "\n",
    "        pair_repr = torch.cdist(ca_coords, ca_coords, p=2)\n",
    "        rotations, translations = rigidFrom3Points(n_coords, ca_coords, c_coords)\n",
    "        \n",
    "        # Foward Diffusion\n",
    "        batch_size = atom_coords.shape[0]\n",
    "        t, pt = diffusion.sample_timesteps(batch_size = batch_size, device=DEVICE)\n",
    "\n",
    "        x_t, x_0_ignore, mask = diffusion.seq_q_sample(x_0, t)\n",
    "        \n",
    "        # Backward Diffusion\n",
    "        x_0_hat_logits = model(x_t, pair_repr.to(DEVICE, torch.float32), rotations.to(DEVICE,torch.float32), translations.to(DEVICE, torch.float32))\n",
    "        \n",
    "        \n",
    "        \n",
    "        # Custom loss function\n",
    "        cross_entropy_loss = F.cross_entropy(x_0_hat_logits.transpose(1, 2), \n",
    "                                             x_0_ignore.to(torch.int64), \n",
    "                                             ignore_index = -1, reduction='none')\n",
    "        \n",
    "        cross_entropy_loss = torch.sum(cross_entropy_loss, dim=1)\n",
    "\n",
    "        vb_loss = cross_entropy_loss / t\n",
    "\n",
    "        vb_loss = vb_loss / pt\n",
    "        \n",
    "        loss = vb_loss.mean()\n",
    "\n",
    "        optimizer.zero_grad()\n",
    "        loss.backward() # calc gradients\n",
    "        train_loss += loss.item()\n",
    "        optimizer.step() # backpropagation\n",
    "\n",
    "    avg_loss = train_loss / len(train_loader.dataset)\n",
    "    loss_history.append(avg_loss)\n",
    "    print('====> Epoch: {} Average loss: {:.10f}'.format(epoch, avg_loss))"
   ]
  },
  {
   "cell_type": "code",
   "execution_count": 18,
   "metadata": {},
   "outputs": [
    {
     "data": {
      "image/png": "[encoded data removed]",
      "text/plain": [
       "<Figure size 640x480 with 1 Axes>"
      ]
     },
     "metadata": {},
     "output_type": "display_data"
    }
   ],
   "source": [
    "plt.plot(loss_history)\n",
    "plt.xlabel('Epoch')\n",
    "plt.ylabel('Average Loss')\n",
    "plt.title('Loss Descend over Epochs')\n",
    "plt.show()"
   ]
  },
  {
   "cell_type": "code",
   "execution_count": 15,
   "metadata": {},
   "outputs": [],
   "source": [
    "# save the model\n",
    "torch.save(model.state_dict(), './trained_models/sequence_model_16.pt')"
   ]
  },
  {
   "attachments": {},
   "cell_type": "markdown",
   "metadata": {},
   "source": [
    "# Sample one sequence"
   ]
  },
  {
   "cell_type": "code",
   "execution_count": 9,
   "metadata": {},
   "outputs": [
    {
     "data": {
      "text/plain": [
       "<All keys matched successfully>"
      ]
     },
     "execution_count": 9,
     "metadata": {},
     "output_type": "execute_result"
    }
   ],
   "source": [
    "# load the model\n",
    "DEVICE = torch.device('cpu')\n",
    "model = SequenceModel()\n",
    "model.load_state_dict(torch.load('./trained_models/sequence_model_16.pt', map_location=DEVICE))"
   ]
  },
  {
   "cell_type": "code",
   "execution_count": 10,
   "metadata": {},
   "outputs": [
    {
     "name": "stdout",
     "output_type": "stream",
     "text": [
      "PDB ID: ('1a0j', 'A')\n",
      "t = 100: ['************************V***************************************']\n",
      "None\n",
      "t = 99: ['************************V***************************************']\n",
      "None\n",
      "t = 98: ['************************V***************************************']\n",
      "None\n",
      "t = 97: ['************************V***************************************']\n",
      "None\n",
      "t = 96: ['************************V***************************************']\n",
      "None\n",
      "t = 95: ['************************V****************A**********************']\n",
      "None\n",
      "t = 94: ['************************V****************A**********************']\n",
      "None\n",
      "t = 93: ['***************A********V***************DA**********************']\n",
      "None\n",
      "t = 92: ['***************A********V***************DA**********************']\n",
      "None\n",
      "t = 91: ['********E******A********V***************DA**********************']\n",
      "None\n",
      "t = 90: ['*E****P*E******A********V***************DA**********************']\n",
      "None\n",
      "t = 89: ['*E****P*E******A********V***************DA**********************']\n",
      "None\n",
      "t = 88: ['*E****P*E******A********V***************DA**********************']\n",
      "None\n",
      "t = 87: ['*E****P*E******A********V***************DA****************T*****']\n",
      "None\n",
      "t = 86: ['*E****P*E****N*A********V***************DA****************T*****']\n",
      "None\n",
      "t = 85: ['*E****P*E****N*A********V***************DA****************T*****']\n",
      "None\n",
      "t = 84: ['*E****P*E**N*N*A********V************D**DA************L***T*****']\n",
      "None\n",
      "t = 83: ['*E****P*E**N*N*A********V*****S******D**DA************L***T*****']\n",
      "None\n",
      "t = 82: ['*E*G**P*E**N*N*A********V*****S******D**DA************L***T*****']\n",
      "None\n",
      "t = 81: ['*E*G*VP*E**N*N*A*L******V*****S******D**DA**T*********L***T*****']\n",
      "None\n",
      "t = 80: ['*E*G*VP*E**N*N*A*L******V*****S******D**DA**T*********L***T*****']\n",
      "None\n",
      "t = 79: ['*E*G*VP*E**N*N*A*L******V*****S******D**DA**T*********L***T*****']\n",
      "None\n",
      "t = 78: ['*E*G*VP*E**N*N*A*L******V*****S******D**DA**T*********L***T*****']\n",
      "None\n",
      "t = 77: ['*E*G*VP*E**N*N*A*L******V***L*S******D**DA**T*********L***T*****']\n",
      "None\n",
      "t = 76: ['*E*G*VP*E**N*N*A*L******V**SL*S******D**DA**T*******T*L***T*****']\n",
      "None\n",
      "t = 75: ['*E*G*VP*E**N*N*A*L******V**SL*SP*****D**DA**T*******T*L***T*****']\n",
      "None\n",
      "t = 74: ['*E*G*VP*E**N*N*A*L******V**SL*SP*****D**DAA*T*******T*L**TT*****']\n",
      "None\n",
      "t = 73: ['*E*G*VP*E**N*N*A*L******V**SL*SP*T***D**DAA*T*******T*L*TTT*****']\n",
      "None\n",
      "t = 72: ['*E*G*VP*E**N*N*A*L******V**SL*SP*T***D**DAA*T*******T*L*TTT*****']\n",
      "None\n",
      "t = 71: ['*E*G*VP*E**N*N*A*L******V**SL*SPTT***D**DAA*T*******T*L*TTT*****']\n",
      "None\n",
      "t = 70: ['*E*G*VP*E**N*N*A*L******V**SL*SPTT***D**DAA*T*******T*L*TTT*****']\n",
      "None\n",
      "t = 69: ['*E*G*VP*E**N*N*A*L******V**SL*SPTT***D**DAA*T*******T*L*TTT*****']\n",
      "None\n",
      "t = 68: ['*E*G*VP*E**N*N*A*L******V**SL*SPTT***D**DAA*T*******T*L*TTT*****']\n",
      "None\n",
      "t = 67: ['*E*G*VP*E**N*N*A*L*D****V**SL*SPTT**GD**DAA*T*******T*L*TTT*****']\n",
      "None\n",
      "t = 66: ['*E*G*VP*E**N*N*A*L*D****V**SL*SPTT**GD**DAA*T**L****T*L*TTT*****']\n",
      "None\n",
      "t = 65: ['*E*G*VP*E**N*N*A*L*D****V**SL*SPTT**GD**DAA*T**L****T*L*TTT*****']\n",
      "None\n",
      "t = 64: ['*E*G*VP*E**N*N*A*L*D****V**SL*SPTT**GD**DAA*T**L****T*L*TTT*****']\n",
      "None\n",
      "t = 63: ['*E*G*VP*E**N*N*A*L*DG***V**SLVSPTT**GD**DAA*T**LL***T*L*TTT*****']\n",
      "None\n",
      "t = 62: ['*E*G*VP*E**N*N*A*L*DG***V**SLVSPTT**GD**DAA*T**LL***T*L*TTT*****']\n",
      "None\n",
      "t = 61: ['*E*G*VP*E**N*N*A*L*DG***V**SLVSPTT**GD**DAA*T**LL***T*L*TTT*****']\n",
      "None\n",
      "t = 60: ['*E*G*VP*E**N*N*A*L*DG***V**SLVSPTT**GD**DAA*T**LL***T*L*TTT*****']\n",
      "None\n",
      "t = 59: ['*E*G*VP*E**N*N*ALL*DG***V**SLVSPTT**GD**DAA*T**LLV**T*L*TTT*****']\n",
      "None\n",
      "t = 58: ['*E*G*VP*E**N*N*ALL*DG***V**SLVSPTT**GD**DAA*T**LLV**T*L*TTT*****']\n",
      "None\n",
      "t = 57: ['*EGG*VP*E**N*N*ALL*DG***V**SLVSPTT**GD**DAA*T**LLV**T*L*TTT*****']\n",
      "None\n",
      "t = 56: ['*EGG*VP*E**NPN*ALL*DG***V**SLVSPTT**GD**DAA*T**LLV**T*L*TTT*****']\n",
      "None\n",
      "t = 55: ['*EGG*VP*E**NPN*ALL*DG***V*GSLVSPTT**GD**DAA*T**LLV**T*L*TTT*****']\n",
      "None\n",
      "t = 54: ['*EGG*VP*E**NPN*ALL*DG***V*GSLVSPTT**GD**DAA*T**LLV**T*L*TTT*****']\n",
      "None\n",
      "t = 53: ['*EGG*VP*E**NPN*ALL*DG***V*GSLVSPTT**GD**DAA*T**LLV**T*LSTTT*****']\n",
      "None\n",
      "t = 52: ['*EGG*VP*E**NPN*ALL*DG*K*V*GSLVSPTT**GDP*DAA*T**LLV**T*LSTTT*****']\n",
      "None\n",
      "t = 51: ['*EGG*VP*E**NPN*ALLDDG*K*V*GSLVSPTT**GDP*DAA*T**LLV**T*LSTTT*****']\n",
      "None\n",
      "t = 50: ['*EGG*VP*E**NPN*ALLDDG*K*V*GSLVSPTT**GDP*DAA*T**LLV**T*LSTTT***V*']\n",
      "None\n",
      "t = 49: ['*EGG*VP*E**NPN*ALLDDG*K*V*GSLVSPTT**GDPSDAA*T**LLVG*T*LSTTT***V*']\n",
      "None\n",
      "t = 48: ['*EGG*VP*E**NPN*ALLDDG*K*V*GSLVSPTTV*GDPSDAA*T**LLVG*T*LSTTT***V*']\n",
      "None\n",
      "t = 47: ['*EGG*VP*E**NPN*ALLDDG*K*V*GSLVSPTTV*GDPSDAA*T**LLVGVT*LSTTT***V*']\n",
      "None\n",
      "t = 46: ['*EGG*VP*E**NPN*ALLDDG*K*V*GSLVSPTTV*GDPSDAA*T**LLVGVT*LSTTT***V*']\n",
      "None\n",
      "t = 45: ['*EGG*VP*E**NPN*ALLDDG*K*V*GSLVSPTTV*GDPSDAA*T**LLVGVT*LSTTT***V*']\n",
      "None\n",
      "t = 44: ['*EGG*VP*E**NPN*ALLDDG*K*V*GSLVSPTTV*GDPSDAA*T**LLVGVT*LSTTT***V*']\n",
      "None\n",
      "t = 43: ['*EGG*VP*E**NPN*ALLDDG*K*V*GSLVSPTTV*GDPSDAA*T**LLVGVT*LSTTT***V*']\n",
      "None\n",
      "t = 42: ['*EGG*VP*E**NPN*ALLDDG*K*V*GSLVSPTTV*GDPSDAA*T**LLVGVT*LSTTT***V*']\n",
      "None\n",
      "t = 41: ['*EGG*VP*E**NPN*ALLDDG*K*V*GSLVSPTTV*GDPSDAA*T**LLVGVT*LSTTT***V*']\n",
      "None\n",
      "t = 40: ['*EGG*VP*E**NPN*ALLDDG*K*V*GSLVSPTTV*GDPSDAA*T**LLVGVT*LSTTTG**V*']\n",
      "None\n",
      "t = 39: ['*EGG*VP*E**NPN*ALLDDG*K*V*GSLVSPTTV*GDPSDAA*T**LLVGVT*LSTTTG**V*']\n",
      "None\n",
      "t = 38: ['*EGG*VP*E**NPN*ALLDDG*K*V*GSLVSPTTV*GDPSDAA*T**LLVGVT*LSTTTG**V*']\n",
      "None\n",
      "t = 37: ['*EGG*VP*E**NPN*ALLDDG*K*V*GSLVSPTTV*GDPSDAA*T**LLVGVT*LSTTTG**V*']\n",
      "None\n",
      "t = 36: ['*EGG*VP*E**NPN*ALLDDG*K*V*GSLVSPTTV*GDPSDAA*T**LLVGVT*LSTTTG**V*']\n",
      "None\n",
      "t = 35: ['*EGG*VP*E**NPNLALLDDG*K*V*GSLVSPTTV*GDPSDAA*T**LLVGVT*LSTTTG**V*']\n",
      "None\n",
      "t = 34: ['*EGG*VP*E**NPNLALLDDG*K*V*GSLVSPTTV*GDPSDAA*T**LLVGVT*LSTTTG**V*']\n",
      "None\n",
      "t = 33: ['*EGG*VP*E**NPNLALLDDG*K*V*GSLVSPTTV*GDPSDAA*T**LLVGVT*LSTTTG**V*']\n",
      "None\n",
      "t = 32: ['*EGG*VP*E**NPNLALLDDG*K*V*GSLVSPTTV*GDPSDAA*T**LLVGVT*LSTTTG**V*']\n",
      "None\n",
      "t = 31: ['*EGG*VP*E**NPNLALLDDG*K*V*GSLVSPTTV*GDPSDAA*T**LLVGVT*LSTTTG**V*']\n",
      "None\n",
      "t = 30: ['*EGG*VP*E**NPNLALLDDG*K*V*GSLVSPTTV*GDPSDAA*T**LLVGVT*LSTTTG**V*']\n",
      "None\n",
      "t = 29: ['*EGG*VP*E**NPNLALLDDG*K*V*GSLVSPTTV*GDPSDAA*T**LLVGVT*LSTTTG**V*']\n",
      "None\n",
      "t = 28: ['*EGG*VP*E**NPNLALLDDG*K*VLGSLVSPTTV*GDPSDAA*T**LLVGVT*LSTTTG**V*']\n",
      "None\n",
      "t = 27: ['*EGG*VP*E**NPNLALLDDG*K*VLGSLVSPTTV*GDPSDAA*T**LLVGVT*LSTTTG**V*']\n",
      "None\n",
      "t = 26: ['*EGG*VP*E**NPNLALLDDG*K*VLGSLVSPTTV*GDPSDAA*T**LLVGVT*LSTTTG**V*']\n",
      "None\n",
      "t = 25: ['*EGGTVPDE**NPNLALLDDG*K*VLGSLVSPTTV*GDPSDAA*T**LLVGVT*LSTTTG**V*']\n",
      "None\n",
      "t = 24: ['*EGGTVPDE**NPNLALLDDG*K*VLGSLVSPTTV*GDPSDAA*T**LLVGVT*LSTTTG**V*']\n",
      "None\n",
      "t = 23: ['*EGGTVPDE**NPNLALLDDG*K*VLGSLVSPTTV*GDPSDAA*T**LLVGVT*LSTTTG**VV']\n",
      "None\n",
      "t = 22: ['*EGGTVPDE**NPNLALLDDG*K*VLGSLVSPTTV*GDPSDAA*T**LLVGVT*LSTTTG**VV']\n",
      "None\n",
      "t = 21: ['*EGGTVPDE**NPNLALLDDG*K*VLGSLVSPTTV*GDPSDAA*T**LLVGVT*LSTTTG**VV']\n",
      "None\n",
      "t = 20: ['*EGGTVPDE**NPNLALLDDG*K*VLGSLVSPTTV*GDPSDAA*T*TLLVGVT*LSTTTG**VV']\n",
      "None\n",
      "t = 19: ['*EGGTVPDE**NPNLALLDDG*K*VLGSLVSPTTV*GDPSDAA*T*TLLVGVT*LSTTTG**VV']\n",
      "None\n",
      "t = 18: ['*EGGTVPDE**NPNLALLDDG*K*VLGSLVSPTTV*GDPSDAA*T*TLLVGVT*LSTTTG**VV']\n",
      "None\n",
      "t = 17: ['*EGGTVPDES*NPNLALLDDG*K*VLGSLVSPTTV*GDPSDAA*T*TLLVGVT*LSTTTG**VV']\n",
      "None\n",
      "t = 16: ['*EGGTVPDES*NPNLALLDDG*K*VLGSLVSPTTV*GDPSDAA*T*TLLVGVT*LSTTTG**VV']\n",
      "None\n",
      "t = 15: ['*EGGTVPDES*NPNLALLDDG*K*VLGSLVSPTTV*GDPSDAA*T*TLLVGVT*LSTTTG**VV']\n",
      "None\n",
      "t = 14: ['LEGGTVPDES*NPNLALLDDG*K*VLGSLVSPTTV*GDPSDAA*T*TLLVGVT*LSTTTGD*VV']\n",
      "None\n",
      "t = 13: ['LEGGTVPDES*NPNLALLDDG*K*VLGSLVSPTTV*GDPSDAA*T*TLLVGVT*LSTTTGD*VV']\n",
      "None\n",
      "t = 12: ['LEGGTVPDES*NPNLALLDDG*K*VLGSLVSPTTV*GDPSDAA*T*TLLVGVT*LSTTTGD*VV']\n",
      "None\n",
      "t = 11: ['LEGGTVPDES*NPNLALLDDG*K*VLGSLVSPTTV*GDPSDAA*T*TLLVGVT*LSTTTGD*VV']\n",
      "None\n",
      "t = 10: ['LEGGTVPDES*NPNLALLDDG*K*VLGSLVSPTTV*GDPSDAA*T*TLLVGVT*LSTTTGD*VV']\n",
      "None\n",
      "t = 9: ['LEGGTVPDES*NPNLALLDDG*K*VLGSLVSPTTV*GDPSDAADT*TLLVGVT*LSTTTGD*VV']\n",
      "None\n",
      "t = 8: ['LEGGTVPDES*NPNLALLDDG*K*VLGSLVSPTTV*GDPSDAADT*TLLVGVT*LSTTTGD*VV']\n",
      "None\n",
      "t = 7: ['LEGGTVPDES*NPNLALLDDG*K*VLGSLVSPTTV*GDPSDAADTVTLLVGVT*LSTTTGD*VV']\n",
      "None\n",
      "t = 6: ['LEGGTVPDES*NPNLALLDDG*K*VLGSLVSPTTV*GDPSDAADTVTLLVGVT*LSTTTGD*VV']\n",
      "None\n",
      "t = 5: ['LEGGTVPDES*NPNLALLDDG*K*VLGSLVSPTTV*GDPSDAADTVTLLVGVT*LSTTTGD*VV']\n",
      "None\n",
      "t = 4: ['LEGGTVPDES*NPNLALLDDGDK*VLGSLVSPTTV*GDPSDAADTVTLLVGVT*LSTTTGD*VV']\n",
      "None\n",
      "t = 3: ['LEGGTVPDES*NPNLALLDDGDK*VLGSLVSPTTVEGDPSDAADTVTLLVGVT*LSTTTGDLVV']\n",
      "None\n",
      "t = 2: ['LEGGTVPDESENPNLALLDDGDK*VLGSLVSPTTVEGDPSDAADTVTLLVGVT*LSTTTGDLVV']\n",
      "None\n",
      "t = 1: ['LEGGTVPDESENPNLALLDDGDKVVLGSLVSPTTVEGDPSDAADTVTLLVGVTDLSTTTGDLVV']\n",
      "None\n",
      "ground truth sequence is: IVGGYECRKNSASYQASLQSGYHFCGGSLISSTWVVSAAHCYKSRIQVRLGEHNIAVNEGTEQF\n"
     ]
    }
   ],
   "source": [
    "# sample\n",
    "model.eval()\n",
    "batch_size = 1\n",
    "seq_length = fixed_length\n",
    "\n",
    "# groud truth sequence\n",
    "pdb_id, res, atom_coords,  mask = next(iter(test_loader))\n",
    "atom_coords = atom_coords.to(torch.float32)\n",
    "\n",
    "n_coords = atom_coords[:, :, 0]\n",
    "ca_coords = atom_coords[:, :, 1]\n",
    "c_coords = atom_coords[:, :, 2]\n",
    "\n",
    "rotations, translations = rigidFrom3Points(n_coords, ca_coords, c_coords)\n",
    "pair_repr = torch.cdist(ca_coords, ca_coords, p=2).to(DEVICE)\n",
    "\n",
    "mask = mask.bool()\n",
    "\n",
    "sequences = tensor_to_string(res, label_res_dict)\n",
    "print(\"PDB ID:\",pdb_id[0])\n",
    "\n",
    "# prepare data, only generate one sequence corresponding to ground truth backbone structure\n",
    "x_t = torch.ones(batch_size, seq_length, device=DEVICE, dtype=torch.int64) * 21\n",
    "\n",
    "rotation = rotations[0].unsqueeze(0)\n",
    "translation = translations[0].unsqueeze(0)\n",
    "rotation = rotation.to(DEVICE)\n",
    "translation = translation.to(DEVICE)\n",
    "pair_repr = pair_repr[0].unsqueeze(0)\n",
    "\n",
    "mask = mask[0].unsqueeze(0).to(DEVICE)\n",
    "\n",
    "unmasked = torch.zeros_like(x_t, device=DEVICE).bool()\n",
    "sample_steps = list(range(1, 100+1))\n",
    "\n",
    "# sample\n",
    "for t in reversed(sample_steps):\n",
    "  t = torch.full((batch_size,), t, device=DEVICE, dtype=torch.int64)\n",
    "  # where to unmask\n",
    "  t_mask = t.reshape(batch_size, 1)\n",
    "  t_mask = t_mask.expand(batch_size, seq_length)\n",
    "\n",
    "  changes = torch.rand_like(x_t.float()) < 1 / t_mask.float()\n",
    "  changes = torch.bitwise_xor(changes, torch.bitwise_and(changes, unmasked))\n",
    "  \n",
    "  # update mask with changes\n",
    "  unmasked = torch.bitwise_or(unmasked, changes)\n",
    "  \n",
    "  x_0_logits = model(x_t.float(), pair_repr, rotation, translation)\n",
    "  index = torch.argmax(x_0_logits, dim=2)\n",
    "\n",
    "  x_t.long()[changes] = index.long()[changes]\n",
    "\n",
    "  x_t = x_t * mask # mask out the padding\n",
    "  \n",
    "  sequence = tensor_to_string(x_t, label_res_dict)\n",
    "  print(print(f\"t = {t.item()}:\", sequence))\n",
    "\n",
    "print(\"ground truth sequence is:\", sequences[0])"
   ]
  },
  {
   "attachments": {},
   "cell_type": "markdown",
   "metadata": {},
   "source": [
    "# Sequence recovery rate on test set"
   ]
  },
  {
   "cell_type": "code",
   "execution_count": 39,
   "metadata": {},
   "outputs": [
    {
     "name": "stderr",
     "output_type": "stream",
     "text": [
      "100%|██████████| 35/35 [54:57<00:00, 94.21s/it]\n"
     ]
    }
   ],
   "source": [
    "model.eval()\n",
    "sequence_recovery_rate_list = []\n",
    "\n",
    "for batch_idx, (pdb, res_label, atom_coords, mask) in enumerate(tqdm(test_loader)):\n",
    "    # Data preparation\n",
    "    batch_size = res_label.shape[0]\n",
    "    \n",
    "    atom_coords = atom_coords.to(torch.float32)\n",
    "    n_coords = atom_coords[:, :, 0]\n",
    "    ca_coords = atom_coords[:, :, 1]\n",
    "    c_coords = atom_coords[:, :, 2]\n",
    "\n",
    "    rotations, translations = rigidFrom3Points(n_coords, ca_coords, c_coords)\n",
    "    pair_repr = torch.cdist(ca_coords, ca_coords, p=2).to(DEVICE)\n",
    "\n",
    "    mask = mask.bool()\n",
    "    \n",
    "    x_t = diffusion.p_sample(model, batch_size, DEVICE, pair_repr, rotations.to(DEVICE), translations.to(DEVICE))\n",
    "    accuracy = sequence_recovery_rate(x_t, res_label, mask)\n",
    "    accuracy = torch.mean(accuracy)\n",
    "    sequence_recovery_rate_list.append(accuracy.item())\n",
    "        "
   ]
  },
  {
   "cell_type": "code",
   "execution_count": 41,
   "metadata": {},
   "outputs": [
    {
     "name": "stdout",
     "output_type": "stream",
     "text": [
      "the mean of sequence recovery rate: 0.27018554721559795\n",
      "the std of sequence recovery rate: 0.013461152883705875\n"
     ]
    }
   ],
   "source": [
    "print(\"the mean of sequence recovery rate:\", np.mean(sequence_recovery_rate_list))\n",
    "print(\"the std of sequence recovery rate:\", np.std(sequence_recovery_rate_list))"
   ]
  },
  {
   "cell_type": "code",
   "execution_count": 42,
   "metadata": {},
   "outputs": [],
   "source": [
    "total_data.append(sequence_recovery_rate_list)"
   ]
  },
  {
   "cell_type": "code",
   "execution_count": 58,
   "metadata": {},
   "outputs": [],
   "source": [
    "# save total data in npy file\n",
    "total_data = np.array(total_data)\n",
    "np.save('./data/sequence_recovery_rate_testset.npy', total_data)"
   ]
  },
  {
   "cell_type": "code",
   "execution_count": 60,
   "metadata": {},
   "outputs": [
    {
     "data": {
      "image/png": "[encoded data removed]",
      "text/plain": [
       "<Figure size 1000x700 with 1 Axes>"
      ]
     },
     "metadata": {},
     "output_type": "display_data"
    }
   ],
   "source": [
    "total_data = total_data.tolist()\n",
    "\n",
    "fig = plt.figure(figsize =(10, 7))\n",
    " \n",
    "# Creating axes instance\n",
    "ax = fig.add_axes([0, 0, 1, 1])\n",
    " \n",
    "# Creating plot\n",
    "ax.boxplot(total_data)\n",
    "ax.set_xticklabels(['16', '32', '64'])\n",
    "ax.set_xlabel('Sequence Length')\n",
    "ax.set_ylabel('Sequence Recovery Rate')\n",
    "# show plot\n",
    "plt.show()"
   ]
  },
  {
   "attachments": {},
   "cell_type": "markdown",
   "metadata": {},
   "source": [
    "# Sequence recovery rate on 4 test examples with 64 amino acids"
   ]
  },
  {
   "cell_type": "code",
   "execution_count": 18,
   "metadata": {},
   "outputs": [
    {
     "name": "stderr",
     "output_type": "stream",
     "text": [
      "  0%|          | 0/4372 [00:00<?, ?it/s]"
     ]
    },
    {
     "name": "stdout",
     "output_type": "stream",
     "text": [
      "('1acf', 'A')\n"
     ]
    },
    {
     "name": "stderr",
     "output_type": "stream",
     "text": [
      "  0%|          | 10/4372 [03:52<28:08:27, 23.22s/it]"
     ]
    },
    {
     "name": "stdout",
     "output_type": "stream",
     "text": [
      "('1bkr', 'A')\n"
     ]
    },
    {
     "name": "stderr",
     "output_type": "stream",
     "text": [
      "  1%|          | 49/4372 [07:44<10:17:57,  8.58s/it]"
     ]
    },
    {
     "name": "stdout",
     "output_type": "stream",
     "text": [
      "('1cc8', 'A')\n"
     ]
    },
    {
     "name": "stderr",
     "output_type": "stream",
     "text": [
      " 57%|█████▋    | 2511/4372 [11:33<03:39,  8.49it/s] "
     ]
    },
    {
     "name": "stdout",
     "output_type": "stream",
     "text": [
      "('3mx7', 'A')\n"
     ]
    },
    {
     "name": "stderr",
     "output_type": "stream",
     "text": [
      "100%|██████████| 4372/4372 [15:25<00:00,  4.72it/s]\n"
     ]
    }
   ],
   "source": [
    "test_samples = [\"('1acf', 'A')\", \"('1bkr', 'A')\", \"('1cc8', 'A')\", \"('3mx7', 'A')\"]\n",
    "test_loader = DataLoader(test_dataset, shuffle=False, batch_size=1)\n",
    "result_dict = {}\n",
    "\n",
    "# get above four pdb data\n",
    "for batch_idx, (pdb, res_label, atom_coords, mask) in enumerate(tqdm(test_loader)):\n",
    "    pdb = pdb[0]\n",
    "    if pdb in test_samples:\n",
    "        print(pdb)\n",
    "        accuracy_list = []\n",
    "        for i in range(100):\n",
    "            batch_size = res_label.shape[0]\n",
    "            atom_coords = atom_coords.to(torch.float32)\n",
    "            n_coords = atom_coords[:, :, 0]\n",
    "            ca_coords = atom_coords[:, :, 1]\n",
    "            c_coords = atom_coords[:, :, 2]\n",
    "\n",
    "            rotations, translations = rigidFrom3Points(n_coords, ca_coords, c_coords)\n",
    "            pair_repr = torch.cdist(ca_coords, ca_coords, p=2).to(DEVICE)\n",
    "\n",
    "            mask = mask.bool()\n",
    "            \n",
    "            x_t = diffusion.p_sample(model, batch_size, DEVICE, pair_repr, rotations.to(DEVICE), translations.to(DEVICE))\n",
    "            accuracy = sequence_recovery_rate(x_t, res_label, mask)\n",
    "            accuracy_list.append(accuracy.item())\n",
    "        result_dict[pdb] = accuracy_list\n",
    "        \n",
    "    "
   ]
  },
  {
   "cell_type": "code",
   "execution_count": 33,
   "metadata": {},
   "outputs": [
    {
     "data": {
      "image/png": "[encoded data removed]",
      "text/plain": [
       "<Figure size 1000x700 with 1 Axes>"
      ]
     },
     "metadata": {},
     "output_type": "display_data"
    }
   ],
   "source": [
    "result_data = [result_dict[\"('1cc8', 'A')\"], result_dict[\"('3mx7', 'A')\"], result_dict[\"('1bkr', 'A')\"], result_dict[\"('1acf', 'A')\"]]\n",
    "\n",
    "fig = plt.figure(figsize =(10, 7))\n",
    " \n",
    "# Creating axes instance\n",
    "ax = fig.add_axes([0, 0, 1, 1])\n",
    " \n",
    "# Define colors for the boxes\n",
    "colors = ['tab:blue', 'tab:orange', 'tab:green', 'tab:red']\n",
    "\n",
    "# Create the boxplots with custom colors\n",
    "boxplot = ax.boxplot(result_data, patch_artist=True, medianprops=dict(color=\"black\",linewidth=1.5))\n",
    "\n",
    "for patch, color in (zip(boxplot['boxes'], colors)):\n",
    "    patch.set_facecolor(color)\n",
    "\n",
    "# Creating plot\n",
    "ax.set_xticklabels(['1cc8', '3mx7', '1bkr', '1acf'])\n",
    "ax.set_ylabel('Sequence Recovery Rate')\n",
    "# show plot\n",
    "plt.show()"
   ]
  },
  {
   "cell_type": "code",
   "execution_count": 8,
   "metadata": {},
   "outputs": [
    {
     "data": {
      "image/png": "[encoded data removed]",
      "text/plain": [
       "<Figure size 640x480 with 1 Axes>"
      ]
     },
     "metadata": {},
     "output_type": "display_data"
    }
   ],
   "source": [
    "plt.plot(loss_history)\n",
    "plt.xlabel('Epoch')\n",
    "plt.ylabel('Average Loss')\n",
    "plt.title('Loss Descend over Epochs')\n",
    "plt.show()"
   ]
  },
  {
   "cell_type": "code",
   "execution_count": 9,
   "metadata": {},
   "outputs": [],
   "source": [
    "# save the model\n",
    "torch.save(model.state_dict(), './trained_models/sequence_model_pairwise.pt')"
   ]
  },
  {
   "cell_type": "code",
   "execution_count": 17,
   "metadata": {},
   "outputs": [
    {
     "name": "stdout",
     "output_type": "stream",
     "text": [
      "PDB ID: 1hxvA\n",
      "t = 100: ['********************']\n",
      "None\n",
      "t = 99: ['********************']\n",
      "None\n",
      "t = 98: ['********************']\n",
      "None\n",
      "t = 97: ['********************']\n",
      "None\n",
      "t = 96: ['*************L******']\n",
      "None\n",
      "t = 95: ['*************L******']\n",
      "None\n",
      "t = 94: ['********K****L******']\n",
      "None\n",
      "t = 93: ['********K****L******']\n",
      "None\n",
      "t = 92: ['********K****L******']\n",
      "None\n",
      "t = 91: ['********K****L******']\n",
      "None\n",
      "t = 90: ['********K****L******']\n",
      "None\n",
      "t = 89: ['********K****L******']\n",
      "None\n",
      "t = 88: ['********K****L******']\n",
      "None\n",
      "t = 87: ['********K****L******']\n",
      "None\n",
      "t = 86: ['********K****L******']\n",
      "None\n",
      "t = 85: ['********K****L******']\n",
      "None\n",
      "t = 84: ['********K****L******']\n",
      "None\n",
      "t = 83: ['********K****L******']\n",
      "None\n",
      "t = 82: ['********K****L******']\n",
      "None\n",
      "t = 81: ['********K****L****S*']\n",
      "None\n",
      "t = 80: ['********K****L****S*']\n",
      "None\n",
      "t = 79: ['********K****L****S*']\n",
      "None\n",
      "t = 78: ['********K****L****S*']\n",
      "None\n",
      "t = 77: ['********K****L**N*S*']\n",
      "None\n",
      "t = 76: ['********K****L**N*S*']\n",
      "None\n",
      "t = 75: ['********K****L**N*S*']\n",
      "None\n",
      "t = 74: ['********K****L**N*S*']\n",
      "None\n",
      "t = 73: ['****D***K****L**N*S*']\n",
      "None\n",
      "t = 72: ['****D***K****L**N*S*']\n",
      "None\n",
      "t = 71: ['****D***K****L**N*S*']\n",
      "None\n",
      "t = 70: ['****D***K****L**N*S*']\n",
      "None\n",
      "t = 69: ['*I**D***K****L**N*S*']\n",
      "None\n",
      "t = 68: ['*I**D***K****L**N*S*']\n",
      "None\n",
      "t = 67: ['*I**D***K****LL*N*S*']\n",
      "None\n",
      "t = 66: ['*I**D***K****LL*N*S*']\n",
      "None\n",
      "t = 65: ['*I**D***K****LL*N*S*']\n",
      "None\n",
      "t = 64: ['*I**D***K****LL*N*S*']\n",
      "None\n",
      "t = 63: ['*I**D***K****LL*N*ST']\n",
      "None\n",
      "t = 62: ['*I**D***K****LL*N*ST']\n",
      "None\n",
      "t = 61: ['*I**D***K****LL*N*ST']\n",
      "None\n",
      "t = 60: ['*I**D***K****LL*N*ST']\n",
      "None\n",
      "t = 59: ['*I**D***K****LL*N*ST']\n",
      "None\n",
      "t = 58: ['*I**D***K****LL*N*ST']\n",
      "None\n",
      "t = 57: ['*I**D***K****LL*N*ST']\n",
      "None\n",
      "t = 56: ['*I**D***K****LL*N*ST']\n",
      "None\n",
      "t = 55: ['*I**D***K****LL*N*ST']\n",
      "None\n",
      "t = 54: ['*I**D***K****LL*N*ST']\n",
      "None\n",
      "t = 53: ['*I**D***K****LL*N*ST']\n",
      "None\n",
      "t = 52: ['*I**D***K****LL*N*ST']\n",
      "None\n",
      "t = 51: ['*I**D***K****LL*N*ST']\n",
      "None\n",
      "t = 50: ['*I**D***K****LL*N*ST']\n",
      "None\n",
      "t = 49: ['*I**D***K****LL*N*ST']\n",
      "None\n",
      "t = 48: ['*I**D***K****LL*N*ST']\n",
      "None\n",
      "t = 47: ['*I**D***K****LL*N*ST']\n",
      "None\n",
      "t = 46: ['*I**D***K****LL*N*ST']\n",
      "None\n",
      "t = 45: ['*I**D***K****LL*N*ST']\n",
      "None\n",
      "t = 44: ['*I**D***K****LL*N*ST']\n",
      "None\n",
      "t = 43: ['*I**D***K****LL*N*ST']\n",
      "None\n",
      "t = 42: ['*I**D***K****LL*N*ST']\n",
      "None\n",
      "t = 41: ['*I**D***K****LL*N*ST']\n",
      "None\n",
      "t = 40: ['*I**D***K***TLL*N*ST']\n",
      "None\n",
      "t = 39: ['*I**D***K***TLL*N*ST']\n",
      "None\n",
      "t = 38: ['*I**D***K***TLL*N*ST']\n",
      "None\n",
      "t = 37: ['*I**D***K***TLL*N*ST']\n",
      "None\n",
      "t = 36: ['*I**D***K***TLL*N*ST']\n",
      "None\n",
      "t = 35: ['*I**D***K***TLL*N*ST']\n",
      "None\n",
      "t = 34: ['*I**D***K***TLL*N*ST']\n",
      "None\n",
      "t = 33: ['*I**D***K***TLL*N*ST']\n",
      "None\n",
      "t = 32: ['*I**DE**K***TLL*N*ST']\n",
      "None\n",
      "t = 31: ['*I**DE**K***TLL*N*ST']\n",
      "None\n",
      "t = 30: ['*I**DE**K***TLL*NGST']\n",
      "None\n",
      "t = 29: ['*I**DE**K***TLL*NGST']\n",
      "None\n",
      "t = 28: ['*I**DE**K***TLL*NGST']\n",
      "None\n",
      "t = 27: ['*I**DETLK***TLL*NGST']\n",
      "None\n",
      "t = 26: ['*IG*DETLK***TLL*NGST']\n",
      "None\n",
      "t = 25: ['*IG*DETLK***TLL*NGST']\n",
      "None\n",
      "t = 24: ['*IG*DETLK***TLL*NGST']\n",
      "None\n",
      "t = 23: ['*IG*DETLK***TLL*NGST']\n",
      "None\n",
      "t = 22: ['*IG*DETLK***TLL*NGST']\n",
      "None\n",
      "t = 21: ['*IG*DETLK***TLL*NGST']\n",
      "None\n",
      "t = 20: ['*IG*DETLK***TLL*NGST']\n",
      "None\n",
      "t = 19: ['*IG*DETLK***TLL*NGST']\n",
      "None\n",
      "t = 18: ['*IG*DETLK***TLL*NGST']\n",
      "None\n",
      "t = 17: ['*IG*DETLK***TLL*NGST']\n",
      "None\n",
      "t = 16: ['*IG*DETLK***TLL*NGST']\n",
      "None\n",
      "t = 15: ['*IG*DETLK**VTLL*NGST']\n",
      "None\n",
      "t = 14: ['*IG*DETLK**VTLL*NGST']\n",
      "None\n",
      "t = 13: ['*IG*DETLK**VTLL*NGST']\n",
      "None\n",
      "t = 12: ['MIG*DETLK**VTLL*NGST']\n",
      "None\n",
      "t = 11: ['MIG*DETLK**VTLL*NGST']\n",
      "None\n",
      "t = 10: ['MIG*DETLK**VTLL*NGST']\n",
      "None\n",
      "t = 9: ['MIG*DETLK**VTLL*NGST']\n",
      "None\n",
      "t = 8: ['MIG*DETLKI*VTLL*NGST']\n",
      "None\n",
      "t = 7: ['MIG*DETLKI*VTLL*NGST']\n",
      "None\n",
      "t = 6: ['MIG*DETLKI*VTLL*NGST']\n",
      "None\n",
      "t = 5: ['MIG*DETLKI*VTLL*NGST']\n",
      "None\n",
      "t = 4: ['MIG*DETLKIKVTLL*NGST']\n",
      "None\n",
      "t = 3: ['MIG*DETLKIKVTLLPNGST']\n",
      "None\n",
      "t = 2: ['MIGEDETLKIKVTLLPNGST']\n",
      "None\n",
      "t = 1: ['MIGEDETLKIKVTLLPNGST']\n",
      "None\n",
      "ground truth sequence is: KLANGDIAIIDFTGIVDNKK\n"
     ]
    }
   ],
   "source": [
    "# sample\n",
    "model.eval()\n",
    "batch_size = 1\n",
    "seq_length = 20\n",
    "\n",
    "# groud truth sequence\n",
    "pdb_id, res, atom_coords = next(iter(test_loader))\n",
    "atom_coords = atom_coords.to(torch.float32)\n",
    "n_coords = atom_coords[:, :, 0]\n",
    "ca_coords = atom_coords[:, :, 1]\n",
    "c_coords = atom_coords[:, :, 2]\n",
    "rotations, translations = rigidFrom3Points(n_coords, ca_coords, c_coords)\n",
    "pair_repr = torch.cdist(ca_coords, ca_coords, p=2).to(DEVICE)\n",
    "\n",
    "res = res.squeeze()\n",
    "sequences = tensor_to_string(res, label_res_dict)\n",
    "print(\"PDB ID:\",pdb_id[0])\n",
    "\n",
    "# prepare data, only generate one sequence corresponding to ground truth backbone structure\n",
    "x_t = torch.ones(batch_size, seq_length, device=DEVICE, dtype=torch.int64) * 21\n",
    "\n",
    "rotation = rotations[0].unsqueeze(0)\n",
    "translation = translations[0].unsqueeze(0)\n",
    "rotation = rotation.to(DEVICE)\n",
    "translation = translation.to(DEVICE)\n",
    "pair_repr = pair_repr[0].unsqueeze(0)\n",
    "\n",
    "#rotations = repeat(torch.eye(3), 'r1 r2 -> b n r1 r2', b = batch_size, n = seq_length)\n",
    "#translations  = torch.randn(batch_size, seq_length, 3, device=DEVICE)\n",
    "unmasked = torch.zeros_like(x_t, device=DEVICE).bool()\n",
    "sample_steps = list(range(1, 100+1))\n",
    "\n",
    "# sample\n",
    "for t in reversed(sample_steps):\n",
    "  t = torch.full((batch_size,), t, device=DEVICE, dtype=torch.int64)\n",
    "  # where to unmask\n",
    "  t_mask = t.reshape(batch_size, 1)\n",
    "  t_mask = t_mask.expand(batch_size, 20)\n",
    "\n",
    "  changes = torch.rand_like(x_t.float()) < 1 / t_mask.float()\n",
    "  changes = torch.bitwise_xor(changes, torch.bitwise_and(changes, unmasked))\n",
    "  \n",
    "  # update mask with changes\n",
    "  unmasked = torch.bitwise_or(unmasked, changes)\n",
    "  x_0_logits = model(x_t.float(), pair_repr, rotation, translation)\n",
    "  index = torch.argmax(x_0_logits,dim=2)\n",
    "\n",
    "  x_t.long()[changes] = index.long()[changes]\n",
    "\n",
    "  sequence = tensor_to_string(x_t, label_res_dict)\n",
    "  print(print(f\"t = {t.item()}:\", sequence))\n",
    "\n",
    "print(\"ground truth sequence is:\", sequences[0])"
   ]
  }
 ],
 "metadata": {
  "kernelspec": {
   "display_name": "base",
   "language": "python",
   "name": "python3"
  },
  "language_info": {
   "codemirror_mode": {
    "name": "ipython",
    "version": 3
   },
   "file_extension": ".py",
   "mimetype": "text/x-python",
   "name": "python",
   "nbconvert_exporter": "python",
   "pygments_lexer": "ipython3",
   "version": "3.9.16"
  },
  "orig_nbformat": 4,
  "vscode": {
   "interpreter": {
    "hash": "effbe0922462656eabbb4f3849a1f92ba409f9c341344d950dfe35ae5b41e61b"
   }
  }
 },
 "nbformat": 4,
 "nbformat_minor": 2
}

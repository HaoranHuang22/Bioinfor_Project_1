{
 "cells": [
  {
   "cell_type": "code",
   "execution_count": 11,
   "metadata": {},
   "outputs": [],
   "source": [
    "import torch\n",
    "from torch import optim\n",
    "from torch.optim import Adam\n",
    "from tqdm import tqdm\n",
    "\n",
    "from utils.data import read_domain_ids_per_chain_from_txt\n",
    "from common.res_infor import *\n",
    "from utils.dataset import *\n",
    "from diffusion_model.sequence_diffusion_model import *"
   ]
  },
  {
   "cell_type": "code",
   "execution_count": 12,
   "metadata": {},
   "outputs": [],
   "source": [
    "DEVICE = torch.device('cuda' if torch.cuda.is_available() else 'cpu')\n",
    "EPOCH = 20\n",
    "LEARNING_RATE = 1e-3"
   ]
  },
  {
   "cell_type": "code",
   "execution_count": 13,
   "metadata": {},
   "outputs": [],
   "source": [
    "train_pdbs, train_pdb_chains = read_domain_ids_per_chain_from_txt('./data/train_domains.txt')\n",
    "test_pdbs, test_pdb_chains = read_domain_ids_per_chain_from_txt('./data/test_domains.txt')"
   ]
  },
  {
   "cell_type": "code",
   "execution_count": 14,
   "metadata": {},
   "outputs": [],
   "source": [
    "train_loader = BackboneCoordsDataLoader(train_pdb_chains, \"./data/train_backbone_coords_20.npy\", \"./data/train_data_res_20.npy\",seq_length=20, batch_size=128, shuffle=True)\n",
    "test_loader = BackboneCoordsDataLoader(test_pdb_chains, './data/test_backbone_coords_20.npy', './data/test_data_res_20.npy', seq_length=20, batch_size=128, shuffle=True)"
   ]
  },
  {
   "attachments": {},
   "cell_type": "markdown",
   "metadata": {},
   "source": [
    "# Print some Sequence data"
   ]
  },
  {
   "cell_type": "code",
   "execution_count": 15,
   "metadata": {},
   "outputs": [],
   "source": [
    "def tensor_to_string(tensor, label_res_dict):\n",
    "    sequences = []\n",
    "    for i in range(tensor.size(0)):\n",
    "        sequence = \"\".join([label_res_dict[residue.item()] if residue.item() != 21 else '*' for residue in tensor[i]])\n",
    "        sequences.append(sequence)\n",
    "    return sequences"
   ]
  },
  {
   "cell_type": "code",
   "execution_count": 16,
   "metadata": {},
   "outputs": [
    {
     "name": "stdout",
     "output_type": "stream",
     "text": [
      "('4j8sA', '2wa0A', '3ay5A', '3qdsA', '4g56A')\n",
      "['QQTDLSQVWPEANQHFSKEI', 'SGVDLGTYFQSMDAESLFRE', 'LASPLEQLRHLAEELRLLLP', 'TYSITLRVFQRNPGRGFFSI', 'RVSSGRDVACVTEVADTLGA']\n"
     ]
    }
   ],
   "source": [
    "for batch_idx, (pdb_id, res, data) in enumerate(train_loader):\n",
    "    res = res.squeeze()\n",
    "    sequences = tensor_to_string(res, label_res_dict)\n",
    "    print(pdb_id[:5])\n",
    "    print(sequences[:5])\n",
    "    break"
   ]
  },
  {
   "attachments": {},
   "cell_type": "markdown",
   "metadata": {},
   "source": [
    "# Visualization of the forward process"
   ]
  },
  {
   "cell_type": "code",
   "execution_count": 17,
   "metadata": {},
   "outputs": [
    {
     "name": "stdout",
     "output_type": "stream",
     "text": [
      "4d53 A\n",
      "t = 0: ['MGHKIDTKEDMKILYSEIAE']\n",
      "t = 10: ['MGHKIDTKED*KILYSEIAE']\n",
      "t = 20: ['MGHKI*TKEDMK*LYS*IA*']\n",
      "t = 30: ['MGH**DTKEDM***YSE*AE']\n",
      "t = 40: ['MGH*IDTKEDM*ILYS*IAE']\n",
      "t = 50: ['M*H***TK*D*K***SE*A*']\n",
      "t = 60: ['*GHKID*K*D*****SE***']\n",
      "t = 70: ['*GHK**TK******YSE***']\n",
      "t = 80: ['*****D*********S****']\n",
      "t = 90: ['********************']\n",
      "t = 100: ['********************']\n"
     ]
    }
   ],
   "source": [
    "diffusion = SequenceDiffusion()\n",
    "\n",
    "pdb_id, res, _ = next(iter(train_loader))\n",
    "pdb_1 = pdb_id[0]\n",
    "res_1 = res[0].reshape(1, -1)\n",
    "print(pdb_1[:4] + \" \" + pdb_1[-1])\n",
    "\n",
    "for t in range(0, 101, 10):\n",
    "    t = torch.tensor([t])\n",
    "    x_t, _, _= diffusion.seq_q_sample(res_1, t)\n",
    "    sequences = tensor_to_string(x_t, label_res_dict)\n",
    "    print(f\"t = {t.item()}:\", sequences)\n",
    "    "
   ]
  },
  {
   "attachments": {},
   "cell_type": "markdown",
   "metadata": {},
   "source": [
    "# Model training"
   ]
  },
  {
   "cell_type": "code",
   "execution_count": 18,
   "metadata": {},
   "outputs": [],
   "source": [
    "diffusion = SequenceDiffusion(device=DEVICE)\n",
    "model = SequenceModel().to(DEVICE)\n",
    "optimizer = optim.Adam(params=model.parameters(), lr = 1e-3)"
   ]
  },
  {
   "cell_type": "code",
   "execution_count": 26,
   "metadata": {},
   "outputs": [
    {
     "name": "stderr",
     "output_type": "stream",
     "text": [
      "                                               \r"
     ]
    },
    {
     "ename": "KeyboardInterrupt",
     "evalue": "",
     "output_type": "error",
     "traceback": [
      "\u001b[0;31m---------------------------------------------------------------------------\u001b[0m",
      "\u001b[0;31mKeyboardInterrupt\u001b[0m                         Traceback (most recent call last)",
      "\u001b[0;32m/var/folders/lh/2t478p9x7yq115nv9t9csgcr0000gn/T/ipykernel_78629/4076123478.py\u001b[0m in \u001b[0;36m<module>\u001b[0;34m\u001b[0m\n\u001b[1;32m     32\u001b[0m \u001b[0;34m\u001b[0m\u001b[0m\n\u001b[1;32m     33\u001b[0m         \u001b[0moptimizer\u001b[0m\u001b[0;34m.\u001b[0m\u001b[0mzero_grad\u001b[0m\u001b[0;34m(\u001b[0m\u001b[0;34m)\u001b[0m\u001b[0;34m\u001b[0m\u001b[0;34m\u001b[0m\u001b[0m\n\u001b[0;32m---> 34\u001b[0;31m         \u001b[0mloss\u001b[0m\u001b[0;34m.\u001b[0m\u001b[0mbackward\u001b[0m\u001b[0;34m(\u001b[0m\u001b[0;34m)\u001b[0m \u001b[0;31m# calc gradients\u001b[0m\u001b[0;34m\u001b[0m\u001b[0;34m\u001b[0m\u001b[0m\n\u001b[0m\u001b[1;32m     35\u001b[0m         \u001b[0mtrain_loss\u001b[0m \u001b[0;34m+=\u001b[0m \u001b[0mloss\u001b[0m\u001b[0;34m.\u001b[0m\u001b[0mitem\u001b[0m\u001b[0;34m(\u001b[0m\u001b[0;34m)\u001b[0m\u001b[0;34m\u001b[0m\u001b[0;34m\u001b[0m\u001b[0m\n\u001b[1;32m     36\u001b[0m         \u001b[0moptimizer\u001b[0m\u001b[0;34m.\u001b[0m\u001b[0mstep\u001b[0m\u001b[0;34m(\u001b[0m\u001b[0;34m)\u001b[0m \u001b[0;31m# backpropagation\u001b[0m\u001b[0;34m\u001b[0m\u001b[0;34m\u001b[0m\u001b[0m\n",
      "\u001b[0;32m~/opt/anaconda3/lib/python3.9/site-packages/torch/_tensor.py\u001b[0m in \u001b[0;36mbackward\u001b[0;34m(self, gradient, retain_graph, create_graph, inputs)\u001b[0m\n\u001b[1;32m    486\u001b[0m                 \u001b[0minputs\u001b[0m\u001b[0;34m=\u001b[0m\u001b[0minputs\u001b[0m\u001b[0;34m,\u001b[0m\u001b[0;34m\u001b[0m\u001b[0;34m\u001b[0m\u001b[0m\n\u001b[1;32m    487\u001b[0m             )\n\u001b[0;32m--> 488\u001b[0;31m         torch.autograd.backward(\n\u001b[0m\u001b[1;32m    489\u001b[0m             \u001b[0mself\u001b[0m\u001b[0;34m,\u001b[0m \u001b[0mgradient\u001b[0m\u001b[0;34m,\u001b[0m \u001b[0mretain_graph\u001b[0m\u001b[0;34m,\u001b[0m \u001b[0mcreate_graph\u001b[0m\u001b[0;34m,\u001b[0m \u001b[0minputs\u001b[0m\u001b[0;34m=\u001b[0m\u001b[0minputs\u001b[0m\u001b[0;34m\u001b[0m\u001b[0;34m\u001b[0m\u001b[0m\n\u001b[1;32m    490\u001b[0m         )\n",
      "\u001b[0;32m~/opt/anaconda3/lib/python3.9/site-packages/torch/autograd/__init__.py\u001b[0m in \u001b[0;36mbackward\u001b[0;34m(tensors, grad_tensors, retain_graph, create_graph, grad_variables, inputs)\u001b[0m\n\u001b[1;32m    195\u001b[0m     \u001b[0;31m# some Python versions print out the first line of a multi-line function\u001b[0m\u001b[0;34m\u001b[0m\u001b[0;34m\u001b[0m\u001b[0m\n\u001b[1;32m    196\u001b[0m     \u001b[0;31m# calls in the traceback and some print out the last line\u001b[0m\u001b[0;34m\u001b[0m\u001b[0;34m\u001b[0m\u001b[0m\n\u001b[0;32m--> 197\u001b[0;31m     Variable._execution_engine.run_backward(  # Calls into the C++ engine to run the backward pass\n\u001b[0m\u001b[1;32m    198\u001b[0m         \u001b[0mtensors\u001b[0m\u001b[0;34m,\u001b[0m \u001b[0mgrad_tensors_\u001b[0m\u001b[0;34m,\u001b[0m \u001b[0mretain_graph\u001b[0m\u001b[0;34m,\u001b[0m \u001b[0mcreate_graph\u001b[0m\u001b[0;34m,\u001b[0m \u001b[0minputs\u001b[0m\u001b[0;34m,\u001b[0m\u001b[0;34m\u001b[0m\u001b[0;34m\u001b[0m\u001b[0m\n\u001b[1;32m    199\u001b[0m         allow_unreachable=True, accumulate_grad=True)  # Calls into the C++ engine to run the backward pass\n",
      "\u001b[0;31mKeyboardInterrupt\u001b[0m: "
     ]
    }
   ],
   "source": [
    "for epoch in range(EPOCH):    \n",
    "    model.train()\n",
    "    train_loss = 0\n",
    "    for batch_idx, (pdb, res_label, atom_coords) in enumerate(tqdm(train_loader, leave=False)):\n",
    "        # Data preparation\n",
    "        x_0 = res_label.squeeze(-1)\n",
    "        atom_coords = atom_coords\n",
    "        n_coords = atom_coords[:, :, 0]\n",
    "        ca_coords = atom_coords[:, :, 1]\n",
    "        c_coords = atom_coords[:, :, 2]\n",
    "\n",
    "        rotaions, translations = rigidFrom3Points(n_coords, ca_coords, c_coords)\n",
    "        pair_repr = torch.cdist(ca_coords, ca_coords, p=2).to(torch.float32)\n",
    "        \n",
    "        # Foward Diffusion\n",
    "        batch_size = atom_coords.shape[0]\n",
    "        t, pt = diffusion.sample_timesteps(batch_size = batch_size, device=DEVICE)\n",
    "        x_t, x_0_ignore, mask = diffusion.seq_q_sample(x_0, t)\n",
    "\n",
    "        # Backward Diffusion\n",
    "        x_0_hat_logits = model(x_t.float(), pair_repr, rotaions.float(), translations.float())\n",
    "        \n",
    "        # Custom loss function\n",
    "        cross_entropy_loss = F.cross_entropy(x_0_hat_logits.reshape(batch_size, 21, 20), \n",
    "                                             x_0_ignore.reshape(batch_size, 20).type(torch.LongTensor), \n",
    "                                             ignore_index = -1, reduction='none').mean(1)\n",
    "        vb_loss = cross_entropy_loss / t\n",
    "        vb_loss = vb_loss / pt\n",
    "        vb_loss = vb_loss / (math.log(2) * x_0.shape[1:].numel())\n",
    "\n",
    "        loss = vb_loss.mean()\n",
    "\n",
    "        optimizer.zero_grad()\n",
    "        loss.backward() # calc gradients\n",
    "        train_loss += loss.item()\n",
    "        optimizer.step() # backpropagation\n",
    "    print('====> Epoch: {} Average loss: {:.10f}'.format(epoch, train_loss / len(train_loader.dataset)))"
   ]
  },
  {
   "cell_type": "code",
   "execution_count": null,
   "metadata": {},
   "outputs": [],
   "source": []
  }
 ],
 "metadata": {
  "kernelspec": {
   "display_name": "base",
   "language": "python",
   "name": "python3"
  },
  "language_info": {
   "codemirror_mode": {
    "name": "ipython",
    "version": 3
   },
   "file_extension": ".py",
   "mimetype": "text/x-python",
   "name": "python",
   "nbconvert_exporter": "python",
   "pygments_lexer": "ipython3",
   "version": "3.9.13"
  },
  "orig_nbformat": 4,
  "vscode": {
   "interpreter": {
    "hash": "effbe0922462656eabbb4f3849a1f92ba409f9c341344d950dfe35ae5b41e61b"
   }
  }
 },
 "nbformat": 4,
 "nbformat_minor": 2
}

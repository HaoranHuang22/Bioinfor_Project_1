{
 "cells": [
  {
   "cell_type": "code",
   "execution_count": 1,
   "metadata": {},
   "outputs": [],
   "source": [
    "from torch import optim\n",
    "from torch.optim import Adam\n",
    "from tqdm import tqdm\n",
    "\n",
    "from utils.data import read_domain_ids_per_chain_from_txt\n",
    "from utils.dataset import *\n",
    "from diffusion_model.embed import *\n",
    "from diffusion_model.structure_diffusion_model import *"
   ]
  },
  {
   "cell_type": "code",
   "execution_count": 2,
   "metadata": {},
   "outputs": [],
   "source": [
    "DEVICE = torch.device('cuda' if torch.cuda.is_available() else 'cpu')\n",
    "EPOCH = 100\n",
    "LEARNING_RATE = 1e-3"
   ]
  },
  {
   "cell_type": "code",
   "execution_count": 3,
   "metadata": {},
   "outputs": [],
   "source": [
    "train_pdbs, train_pdb_chains = read_domain_ids_per_chain_from_txt('./data/train_domains.txt')\n",
    "test_pdbs, test_pdb_chains = read_domain_ids_per_chain_from_txt('./data/test_domains.txt')"
   ]
  },
  {
   "cell_type": "code",
   "execution_count": 4,
   "metadata": {},
   "outputs": [],
   "source": [
    "train_loader = BackboneCoordsDataLoader(train_pdb_chains, \"./data/train_backbone_coords_20.npy\", \"./data/train_data_res_20.npy\",seq_length=20, batch_size=128, shuffle=True)\n",
    "test_loader = BackboneCoordsDataLoader(test_pdb_chains, './data/test_backbone_coords_20.npy', './data/test_data_res_20.npy', seq_length=20, batch_size=128, shuffle=True)"
   ]
  },
  {
   "cell_type": "code",
   "execution_count": 5,
   "metadata": {},
   "outputs": [],
   "source": [
    "diffusion = ProteinDiffusion(device=DEVICE)\n",
    "model = StructureModel().to(DEVICE)\n",
    "optimizer = optim.Adam(params=model.parameters(), lr = 1e-3)"
   ]
  },
  {
   "cell_type": "code",
   "execution_count": 7,
   "metadata": {},
   "outputs": [
    {
     "name": "stderr",
     "output_type": "stream",
     "text": [
      "                                       "
     ]
    },
    {
     "name": "stdout",
     "output_type": "stream",
     "text": [
      "tensor([[ 0.1289,  0.0791,  0.0149,  ..., -0.1022,  0.1242,  0.0654],\n",
      "        [ 0.1134,  0.0371,  0.0111,  ...,  0.0153,  0.0565,  0.0277],\n",
      "        [ 0.1313,  0.0752, -0.0365,  ..., -0.1950, -0.0347, -0.0643],\n",
      "        ...,\n",
      "        [ 0.1262,  0.1281, -0.0099,  ..., -0.0825,  0.1049,  0.0579],\n",
      "        [ 0.0482,  0.2691,  0.1756,  ..., -0.1200, -0.1839,  0.0359],\n",
      "        [ 0.1464,  0.0757, -0.0119,  ..., -0.1398,  0.0510, -0.0100]],\n",
      "       device='cuda:0')\n"
     ]
    },
    {
     "name": "stderr",
     "output_type": "stream",
     "text": [
      "\r"
     ]
    }
   ],
   "source": [
    "model.train()\n",
    "train_loss = 0\n",
    "for batch_idx, (pdb, res_label, atom_coords) in enumerate(tqdm(train_loader, leave=False)):\n",
    "    # Data preparation\n",
    "    atom_coords = atom_coords.to(DEVICE)\n",
    "    n_coords = atom_coords[:, :, 0]\n",
    "    ca_coords = atom_coords[:, :, 1]\n",
    "    c_coords = atom_coords[:, :, 2]\n",
    "    R, t = rigidFrom3Points(n_coords, ca_coords, c_coords)\n",
    "    q_0 = roma.rotmat_to_unitquat(R)\n",
    "    single_repr = get_single_representation(pdb, res_label).to(DEVICE)\n",
    "    print(single_repr.shape)\n",
    "    break\n",
    "    pair_repr = torch.cdist(ca_coords, ca_coords, p=2).to(torch.float32)\n",
    "    \n",
    "\n",
    "    # Foward Diffusion\n",
    "    batch_size = atom_coords.shape[0]\n",
    "    t = diffusion.sample_timesteps(batch_size = batch_size).to(DEVICE)\n",
    "    x_t = diffusion.coord_q_sample(ca_coords, t).to(torch.float32)\n",
    "    q_t = diffusion.quaternion_q_sample(q_0, t)\n",
    "\n",
    "    pred_coords = model(single_repr, pair_repr, q_t, x_t)\n",
    "\n"
   ]
  },
  {
   "cell_type": "code",
   "execution_count": null,
   "metadata": {},
   "outputs": [],
   "source": []
  }
 ],
 "metadata": {
  "kernelspec": {
   "display_name": "base",
   "language": "python",
   "name": "python3"
  },
  "language_info": {
   "codemirror_mode": {
    "name": "ipython",
    "version": 3
   },
   "file_extension": ".py",
   "mimetype": "text/x-python",
   "name": "python",
   "nbconvert_exporter": "python",
   "pygments_lexer": "ipython3",
   "version": "3.9.16"
  },
  "orig_nbformat": 4
 },
 "nbformat": 4,
 "nbformat_minor": 2
}
